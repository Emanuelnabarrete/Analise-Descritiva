{
  "cells": [
    {
      "cell_type": "markdown",
      "metadata": {
        "id": "view-in-github",
        "colab_type": "text"
      },
      "source": [
        "<a href=\"https://colab.research.google.com/github/Emanuelnabarrete/Analise-Descritiva/blob/main/An%C3%A1lise_Descritiva.ipynb\" target=\"_parent\"><img src=\"https://colab.research.google.com/assets/colab-badge.svg\" alt=\"Open In Colab\"/></a>"
      ]
    },
    {
      "cell_type": "markdown",
      "metadata": {
        "id": "WvMflodMjQKe"
      },
      "source": [
        "***\n",
        "# <font color=green size=10>CURSO DE ESTATÍSTICA - PARTE 1</font>\n",
        "***\n",
        "\n",
        "## Trabalho de Análise Descritiva de um Conjunto de Dados\n",
        "\n",
        "Utilizando os conhecimentos adquiridos em nosso treinamento realize uma análise descritiva básica de um conjunto de dados retirados da Pesquisa Nacional por Amostra de Domicílios - 2015 do IBGE.\n",
        "\n",
        "Vamos construir histogramas, calcular e avaliar medidas de tendência central, medidas separatrizes e de dispersão dos dados.\n",
        "\n",
        "Siga o roteiro proposto e vá completando as células vazias. Procure pensar em mais informações interessantes que podem ser exploradas em nosso dataset."
      ]
    },
    {
      "cell_type": "markdown",
      "metadata": {
        "id": "cVgsZ_E3jQKg"
      },
      "source": [
        "\n",
        "\n",
        "\n",
        "# <font color=green>DATASET DO PROJETO</font>\n",
        "***"
      ]
    },
    {
      "cell_type": "markdown",
      "metadata": {
        "id": "iN1gIbaKjQKh"
      },
      "source": [
        "### Pesquisa Nacional por Amostra de Domicílios - 2015\n",
        "\n",
        "A <b>Pesquisa Nacional por Amostra de Domicílios - PNAD</b> investiga anualmente, de forma permanente, características gerais da população, de educação, trabalho, rendimento e habitação e outras, com periodicidade variável, de acordo com as necessidades de informação para o país, como as características sobre migração, fecundidade, nupcialidade, saúde, segurança alimentar, entre outros temas. O levantamento dessas estatísticas constitui, ao longo dos 49 anos de realização da pesquisa, um importante instrumento para formulação, validação e avaliação de políticas orientadas para o desenvolvimento socioeconômico e a melhoria das condições de vida no Brasil."
      ]
    },
    {
      "cell_type": "markdown",
      "metadata": {
        "id": "U6V7br1RjQKi"
      },
      "source": [
        "### Fonte dos Dados\n",
        "\n",
        "https://ww2.ibge.gov.br/home/estatistica/populacao/trabalhoerendimento/pnad2015/microdados.shtm"
      ]
    },
    {
      "cell_type": "markdown",
      "metadata": {
        "id": "r0Fe_qnzjQKj"
      },
      "source": [
        "### Variáveis utilizadas\n",
        "\n",
        "> ### Renda\n",
        "> ***\n",
        "\n",
        "Rendimento mensal do trabalho principal para pessoas de 10 anos ou mais de idade.\n",
        "\n",
        "> ### Idade\n",
        "> ***\n",
        "\n",
        "Idade do morador na data de referência em anos.\n",
        "\n",
        "> ### Altura (elaboração própria)\n",
        "> ***\n",
        "\n",
        "Altura do morador em metros.\n",
        "\n",
        "> ### UF\n",
        "> ***\n",
        "\n",
        "|Código|Descrição|\n",
        "|---|---|\n",
        "|11|Rondônia|\n",
        "|12|Acre|\n",
        "|13|Amazonas|\n",
        "|14|Roraima|\n",
        "|15|Pará|\n",
        "|16|Amapá|\n",
        "|17|Tocantins|\n",
        "|21|Maranhão|\n",
        "|22|Piauí|\n",
        "|23|Ceará|\n",
        "|24|Rio Grande do Norte|\n",
        "|25|Paraíba|\n",
        "|26|Pernambuco|\n",
        "|27|Alagoas|\n",
        "|28|Sergipe|\n",
        "|29|Bahia|\n",
        "|31|Minas Gerais|\n",
        "|32|Espírito Santo|\n",
        "|33|Rio de Janeiro|\n",
        "|35|São Paulo|\n",
        "|41|Paraná|\n",
        "|42|Santa Catarina|\n",
        "|43|Rio Grande do Sul|\n",
        "|50|Mato Grosso do Sul|\n",
        "|51|Mato Grosso|\n",
        "|52|Goiás|\n",
        "|53|Distrito Federal|\n",
        "\n",
        "> ### Sexo\n",
        "> ***\n",
        "\n",
        "|Código|Descrição|\n",
        "|---|---|\n",
        "|0|Masculino|\n",
        "|1|Feminino|\n",
        "\n",
        "> ### Anos de Estudo\n",
        "> ***\n",
        "\n",
        "|Código|Descrição|\n",
        "|---|---|\n",
        "|1|Sem instrução e menos de 1 ano|\n",
        "|2|1 ano|\n",
        "|3|2 anos|\n",
        "|4|3 anos|\n",
        "|5|4 anos|\n",
        "|6|5 anos|\n",
        "|7|6 anos|\n",
        "|8|7 anos|\n",
        "|9|8 anos|\n",
        "|10|9 anos|\n",
        "|11|10 anos|\n",
        "|12|11 anos|\n",
        "|13|12 anos|\n",
        "|14|13 anos|\n",
        "|15|14 anos|\n",
        "|16|15 anos ou mais|\n",
        "|17|Não determinados|\n",
        "||Não aplicável|\n",
        "\n",
        "> ### Cor\n",
        "> ***\n",
        "\n",
        "|Código|Descrição|\n",
        "|---|---|\n",
        "|0|Indígena|\n",
        "|2|Branca|\n",
        "|4|Preta|\n",
        "|6|Amarela|\n",
        "|8|Parda|\n",
        "|9|Sem declaração|"
      ]
    },
    {
      "cell_type": "markdown",
      "metadata": {
        "id": "OK1IQH5cX7Gb"
      },
      "source": [
        "#### <font color='red'>Observação</font>\n",
        "***\n",
        "> Os seguintes tratamentos foram realizados nos dados originais:\n",
        "> 1. Foram eliminados os registros onde a <b>Renda</b> era inválida (999 999 999 999);\n",
        "> 2. Foram eliminados os registros onde a <b>Renda</b> era missing;\n",
        "> 3. Foram considerados somente os registros das <b>Pessoas de Referência</b> de cada domicílio (responsável pelo domicílio)."
      ]
    },
    {
      "cell_type": "markdown",
      "metadata": {
        "id": "ZIqLOffNTg1Y"
      },
      "source": [
        "***\n",
        "***"
      ]
    },
    {
      "cell_type": "markdown",
      "metadata": {
        "id": "8Rw70V6ojQKk"
      },
      "source": [
        "### Utilize a célula abaixo para importar as biblioteca que precisar para executar as tarefas\n",
        "#### <font color='red'>Sugestões: pandas, numpy, seaborn</font>"
      ]
    },
    {
      "cell_type": "code",
      "execution_count": null,
      "metadata": {
        "id": "fcTgimHBybMz"
      },
      "outputs": [],
      "source": [
        "import pandas as pd\n",
        "import numpy as np\n",
        "import seaborn as sns\n"
      ]
    },
    {
      "cell_type": "markdown",
      "metadata": {
        "id": "2a-gvBvCULwt"
      },
      "source": [
        "### Importe o dataset e armazene o conteúdo em uma DataFrame"
      ]
    },
    {
      "cell_type": "code",
      "execution_count": null,
      "metadata": {
        "id": "ufRZ7TLwjQKo"
      },
      "outputs": [],
      "source": [
        "dados = pd.read_csv(\"dados.csv\")"
      ]
    },
    {
      "cell_type": "markdown",
      "metadata": {
        "id": "Oq3CKHCmTg1j"
      },
      "source": [
        "### Visualize o conteúdo do DataFrame"
      ]
    },
    {
      "cell_type": "code",
      "execution_count": null,
      "metadata": {
        "id": "GsC_WhLFjQKq",
        "scrolled": true,
        "outputId": "5c3e2e6a-b3a1-46e8-e378-1a599c4f334b"
      },
      "outputs": [
        {
          "data": {
            "text/html": [
              "<div>\n",
              "<style scoped>\n",
              "    .dataframe tbody tr th:only-of-type {\n",
              "        vertical-align: middle;\n",
              "    }\n",
              "\n",
              "    .dataframe tbody tr th {\n",
              "        vertical-align: top;\n",
              "    }\n",
              "\n",
              "    .dataframe thead th {\n",
              "        text-align: right;\n",
              "    }\n",
              "</style>\n",
              "<table border=\"1\" class=\"dataframe\">\n",
              "  <thead>\n",
              "    <tr style=\"text-align: right;\">\n",
              "      <th></th>\n",
              "      <th>UF</th>\n",
              "      <th>Sexo</th>\n",
              "      <th>Idade</th>\n",
              "      <th>Cor</th>\n",
              "      <th>Anos de Estudo</th>\n",
              "      <th>Renda</th>\n",
              "      <th>Altura</th>\n",
              "    </tr>\n",
              "  </thead>\n",
              "  <tbody>\n",
              "    <tr>\n",
              "      <th>0</th>\n",
              "      <td>11</td>\n",
              "      <td>0</td>\n",
              "      <td>23</td>\n",
              "      <td>8</td>\n",
              "      <td>12</td>\n",
              "      <td>800</td>\n",
              "      <td>1.603808</td>\n",
              "    </tr>\n",
              "    <tr>\n",
              "      <th>1</th>\n",
              "      <td>11</td>\n",
              "      <td>1</td>\n",
              "      <td>23</td>\n",
              "      <td>2</td>\n",
              "      <td>12</td>\n",
              "      <td>1150</td>\n",
              "      <td>1.739790</td>\n",
              "    </tr>\n",
              "    <tr>\n",
              "      <th>2</th>\n",
              "      <td>11</td>\n",
              "      <td>1</td>\n",
              "      <td>35</td>\n",
              "      <td>8</td>\n",
              "      <td>15</td>\n",
              "      <td>880</td>\n",
              "      <td>1.760444</td>\n",
              "    </tr>\n",
              "    <tr>\n",
              "      <th>3</th>\n",
              "      <td>11</td>\n",
              "      <td>0</td>\n",
              "      <td>46</td>\n",
              "      <td>2</td>\n",
              "      <td>6</td>\n",
              "      <td>3500</td>\n",
              "      <td>1.783158</td>\n",
              "    </tr>\n",
              "    <tr>\n",
              "      <th>4</th>\n",
              "      <td>11</td>\n",
              "      <td>1</td>\n",
              "      <td>47</td>\n",
              "      <td>8</td>\n",
              "      <td>9</td>\n",
              "      <td>150</td>\n",
              "      <td>1.690631</td>\n",
              "    </tr>\n",
              "    <tr>\n",
              "      <th>...</th>\n",
              "      <td>...</td>\n",
              "      <td>...</td>\n",
              "      <td>...</td>\n",
              "      <td>...</td>\n",
              "      <td>...</td>\n",
              "      <td>...</td>\n",
              "      <td>...</td>\n",
              "    </tr>\n",
              "    <tr>\n",
              "      <th>76835</th>\n",
              "      <td>53</td>\n",
              "      <td>1</td>\n",
              "      <td>46</td>\n",
              "      <td>2</td>\n",
              "      <td>11</td>\n",
              "      <td>812</td>\n",
              "      <td>1.687030</td>\n",
              "    </tr>\n",
              "    <tr>\n",
              "      <th>76836</th>\n",
              "      <td>53</td>\n",
              "      <td>0</td>\n",
              "      <td>30</td>\n",
              "      <td>4</td>\n",
              "      <td>7</td>\n",
              "      <td>1500</td>\n",
              "      <td>1.792934</td>\n",
              "    </tr>\n",
              "    <tr>\n",
              "      <th>76837</th>\n",
              "      <td>53</td>\n",
              "      <td>0</td>\n",
              "      <td>32</td>\n",
              "      <td>8</td>\n",
              "      <td>12</td>\n",
              "      <td>1300</td>\n",
              "      <td>1.830587</td>\n",
              "    </tr>\n",
              "    <tr>\n",
              "      <th>76838</th>\n",
              "      <td>53</td>\n",
              "      <td>0</td>\n",
              "      <td>57</td>\n",
              "      <td>8</td>\n",
              "      <td>4</td>\n",
              "      <td>1500</td>\n",
              "      <td>1.726344</td>\n",
              "    </tr>\n",
              "    <tr>\n",
              "      <th>76839</th>\n",
              "      <td>53</td>\n",
              "      <td>0</td>\n",
              "      <td>38</td>\n",
              "      <td>8</td>\n",
              "      <td>4</td>\n",
              "      <td>900</td>\n",
              "      <td>1.658305</td>\n",
              "    </tr>\n",
              "  </tbody>\n",
              "</table>\n",
              "<p>76840 rows × 7 columns</p>\n",
              "</div>"
            ],
            "text/plain": [
              "       UF  Sexo  Idade  Cor  Anos de Estudo  Renda    Altura\n",
              "0      11     0     23    8              12    800  1.603808\n",
              "1      11     1     23    2              12   1150  1.739790\n",
              "2      11     1     35    8              15    880  1.760444\n",
              "3      11     0     46    2               6   3500  1.783158\n",
              "4      11     1     47    8               9    150  1.690631\n",
              "...    ..   ...    ...  ...             ...    ...       ...\n",
              "76835  53     1     46    2              11    812  1.687030\n",
              "76836  53     0     30    4               7   1500  1.792934\n",
              "76837  53     0     32    8              12   1300  1.830587\n",
              "76838  53     0     57    8               4   1500  1.726344\n",
              "76839  53     0     38    8               4    900  1.658305\n",
              "\n",
              "[76840 rows x 7 columns]"
            ]
          },
          "execution_count": 114,
          "metadata": {},
          "output_type": "execute_result"
        }
      ],
      "source": [
        "dados"
      ]
    },
    {
      "cell_type": "markdown",
      "metadata": {
        "id": "HDrFJQitTg1n"
      },
      "source": [
        "### Para avaliarmos o comportamento da variável RENDA vamos construir uma tabela de frequências considerando as seguintes classes em salários mínimos (SM)\n",
        "#### <font color='blue'>Descreva os pontos mais relevantes que você observa na tabela e no gráfico.</font>\n",
        "\n",
        "Classes de renda:\n",
        "\n",
        "<b>A</b> ► Acima de 25 SM\n",
        "\n",
        "<b>B</b> ► De 15 a 25 SM\n",
        "\n",
        "<b>C</b> ► De 5 a 15 SM\n",
        "\n",
        "<b>D</b> ► De 2 a 5 SM\n",
        "\n",
        "<b>E</b> ► Até 2 SM\n",
        "\n",
        "Para construir as classes de renda considere que o salário mínimo na época da pesquisa era de <b>R$ 788,00</b>.\n",
        "\n",
        "#### Siga os passos abaixo:"
      ]
    },
    {
      "cell_type": "markdown",
      "metadata": {
        "id": "zJBkeGxiTg1o"
      },
      "source": [
        "### 1º Definir os intevalos das classes em reais (R$)"
      ]
    },
    {
      "cell_type": "code",
      "execution_count": null,
      "metadata": {
        "id": "-Ct3QUj6Tg1p"
      },
      "outputs": [],
      "source": [
        "classes = [0,1576,3940,11820,19700,200000000000]"
      ]
    },
    {
      "cell_type": "markdown",
      "metadata": {
        "id": "dZ7X37CGTg1t"
      },
      "source": [
        "### 2º Definir os labels das classes"
      ]
    },
    {
      "cell_type": "code",
      "execution_count": null,
      "metadata": {
        "id": "4UFOzitTTg1u"
      },
      "outputs": [],
      "source": [
        "labels = [\"E\" , \"D\" , \"C\" , \"B\" , \"A\"]"
      ]
    },
    {
      "cell_type": "markdown",
      "metadata": {
        "id": "umFq1o-UTg1w"
      },
      "source": [
        "### 3º Construir a coluna de frequências"
      ]
    },
    {
      "cell_type": "code",
      "execution_count": null,
      "metadata": {
        "id": "uSztBoqOTg1x",
        "outputId": "466cc099-ac85-48a4-b0cb-1eeedf050a0a"
      },
      "outputs": [
        {
          "data": {
            "text/plain": [
              "Renda\n",
              "E        49755\n",
              "D        18602\n",
              "C         7241\n",
              "B          822\n",
              "A          420\n",
              "Name: count, dtype: int64"
            ]
          },
          "execution_count": 117,
          "metadata": {},
          "output_type": "execute_result"
        }
      ],
      "source": [
        "df_frequecia_Renda = pd.cut(x =dados.Renda , bins = classes, labels = labels , include_lowest=True)\n",
        "df_frequecia_Renda = pd.DataFrame(df_frequecia_Renda)\n",
        "freq = df_frequecia_Renda.value_counts()\n",
        "freq"
      ]
    },
    {
      "cell_type": "markdown",
      "metadata": {
        "id": "2k6nGUZKTg11"
      },
      "source": [
        "### 4º Construir a coluna de percentuais"
      ]
    },
    {
      "cell_type": "code",
      "execution_count": null,
      "metadata": {
        "id": "rdwUABsnTg12",
        "outputId": "4497adfc-44ee-47b1-a56d-e40ee61c9a72"
      },
      "outputs": [
        {
          "data": {
            "text/plain": [
              "Renda\n",
              "E        64.751432\n",
              "D        24.208745\n",
              "C         9.423477\n",
              "B         1.069755\n",
              "A         0.546590\n",
              "Name: proportion, dtype: float64"
            ]
          },
          "execution_count": 118,
          "metadata": {},
          "output_type": "execute_result"
        }
      ],
      "source": [
        "percent = df_frequecia_Renda.value_counts(normalize=True) *100\n",
        "percent"
      ]
    },
    {
      "cell_type": "markdown",
      "metadata": {
        "id": "9dvk6-9_Tg16"
      },
      "source": [
        "### 5º Juntar as colunas de frequência e percentuais e ordenar as linhas de acordo com os labels das classes"
      ]
    },
    {
      "cell_type": "code",
      "execution_count": null,
      "metadata": {
        "id": "tO_bcMmgTg16",
        "outputId": "43a2be96-c6b6-4c34-cb16-3741a7035c55"
      },
      "outputs": [
        {
          "data": {
            "text/html": [
              "<div>\n",
              "<style scoped>\n",
              "    .dataframe tbody tr th:only-of-type {\n",
              "        vertical-align: middle;\n",
              "    }\n",
              "\n",
              "    .dataframe tbody tr th {\n",
              "        vertical-align: top;\n",
              "    }\n",
              "\n",
              "    .dataframe thead th {\n",
              "        text-align: right;\n",
              "    }\n",
              "</style>\n",
              "<table border=\"1\" class=\"dataframe\">\n",
              "  <thead>\n",
              "    <tr style=\"text-align: right;\">\n",
              "      <th></th>\n",
              "      <th>Frequencia</th>\n",
              "      <th>Percentual(%)</th>\n",
              "    </tr>\n",
              "    <tr>\n",
              "      <th>Renda</th>\n",
              "      <th></th>\n",
              "      <th></th>\n",
              "    </tr>\n",
              "  </thead>\n",
              "  <tbody>\n",
              "    <tr>\n",
              "      <th>A</th>\n",
              "      <td>420</td>\n",
              "      <td>0.546590</td>\n",
              "    </tr>\n",
              "    <tr>\n",
              "      <th>B</th>\n",
              "      <td>822</td>\n",
              "      <td>1.069755</td>\n",
              "    </tr>\n",
              "    <tr>\n",
              "      <th>C</th>\n",
              "      <td>7241</td>\n",
              "      <td>9.423477</td>\n",
              "    </tr>\n",
              "    <tr>\n",
              "      <th>D</th>\n",
              "      <td>18602</td>\n",
              "      <td>24.208745</td>\n",
              "    </tr>\n",
              "    <tr>\n",
              "      <th>E</th>\n",
              "      <td>49755</td>\n",
              "      <td>64.751432</td>\n",
              "    </tr>\n",
              "  </tbody>\n",
              "</table>\n",
              "</div>"
            ],
            "text/plain": [
              "       Frequencia  Percentual(%)\n",
              "Renda                           \n",
              "A             420       0.546590\n",
              "B             822       1.069755\n",
              "C            7241       9.423477\n",
              "D           18602      24.208745\n",
              "E           49755      64.751432"
            ]
          },
          "execution_count": 119,
          "metadata": {},
          "output_type": "execute_result"
        }
      ],
      "source": [
        "df_frequencias = pd.DataFrame({\"Frequencia\" : freq, \"Percentual(%)\": percent})\n",
        "df_frequencias = df_frequencias.sort_index(ascending=False)\n",
        "df_frequencias"
      ]
    },
    {
      "cell_type": "markdown",
      "metadata": {
        "id": "DOYtXuSbTg18"
      },
      "source": [
        "### Construa um gráfico de barras para visualizar as informações da tabela de frequências acima"
      ]
    },
    {
      "cell_type": "code",
      "execution_count": null,
      "metadata": {
        "id": "e4mDPKf1Tg18",
        "outputId": "c8b13072-bf66-4acb-b9b7-43db925505cd"
      },
      "outputs": [
        {
          "data": {
            "text/plain": [
              "<Axes: xlabel='Renda'>"
            ]
          },
          "execution_count": 120,
          "metadata": {},
          "output_type": "execute_result"
        },
        {
          "data": {
            "image/png": "[encoded data removed]",
            "text/plain": [
              "<Figure size 640x480 with 1 Axes>"
            ]
          },
          "metadata": {},
          "output_type": "display_data"
        }
      ],
      "source": [
        "df_frequencias.Frequencia.plot.bar()"
      ]
    },
    {
      "cell_type": "markdown",
      "metadata": {
        "id": "9ppt5JevTg1-"
      },
      "source": [
        "> ### Conclusões\n",
        "\n",
        "Aqui vemos que:\n",
        "\n",
        "Mais de 64% da populacao ganha ate 2 salarios minimos;\n",
        "\n",
        "Menos de 1% da populacao ganha ate o maximo do dataset;\n",
        "\n",
        "E perceptivel a atividade assimetrica no grafico, sendo a direita , Muitos dados ganhando ate R$1576 e uma minima parcela ganhando R$ 19700 ate R$ 200000000000.\n"
      ]
    },
    {
      "cell_type": "markdown",
      "metadata": {
        "id": "yt-gFm93Tg1-"
      },
      "source": [
        "### Crie um histograma para as variáveis QUANTITATIVAS de nosso dataset\n",
        "#### <font color='blue'>Descreva os pontos mais relevantes que você observa nos gráficos (assimetrias e seus tipos, possíveis causas para determinados comportamentos etc.)</font>"
      ]
    },
    {
      "cell_type": "code",
      "execution_count": null,
      "metadata": {
        "id": "DYjq9xasTg1_",
        "outputId": "3c1d57f8-17dd-4d02-ae95-412fb955f12d"
      },
      "outputs": [
        {
          "name": "stderr",
          "output_type": "stream",
          "text": [
            "C:\\Users\\win\\AppData\\Local\\Temp\\ipykernel_14464\\2651121990.py:1: UserWarning: \n",
            "\n",
            "`distplot` is a deprecated function and will be removed in seaborn v0.14.0.\n",
            "\n",
            "Please adapt your code to use either `displot` (a figure-level function with\n",
            "similar flexibility) or `histplot` (an axes-level function for histograms).\n",
            "\n",
            "For a guide to updating your code to use the new functions, please see\n",
            "https://gist.github.com/mwaskom/de44147ed2974457ad6372750bbe5751\n",
            "\n",
            "  ax = sns.distplot(dados.Idade, kde = True)\n"
          ]
        },
        {
          "data": {
            "text/plain": [
              "Text(0.5, 1.0, 'Histograma - Idade')"
            ]
          },
          "execution_count": 121,
          "metadata": {},
          "output_type": "execute_result"
        },
        {
          "data": {
            "image/png": "[encoded data removed]",
            "text/plain": [
              "<Figure size 1200x600 with 1 Axes>"
            ]
          },
          "metadata": {},
          "output_type": "display_data"
        }
      ],
      "source": [
        "ax = sns.distplot(dados.Idade, kde = True)\n",
        "ax.figure.set_size_inches(12,6)\n",
        "ax.set_title(\"Histograma - Idade\")\n"
      ]
    },
    {
      "cell_type": "code",
      "execution_count": null,
      "metadata": {
        "id": "uh2CWIG8Tg2A",
        "outputId": "54a1a85c-6857-491a-eb07-6d9502119841"
      },
      "outputs": [
        {
          "name": "stderr",
          "output_type": "stream",
          "text": [
            "C:\\Users\\win\\AppData\\Local\\Temp\\ipykernel_14464\\595020686.py:1: UserWarning: \n",
            "\n",
            "`distplot` is a deprecated function and will be removed in seaborn v0.14.0.\n",
            "\n",
            "Please adapt your code to use either `displot` (a figure-level function with\n",
            "similar flexibility) or `histplot` (an axes-level function for histograms).\n",
            "\n",
            "For a guide to updating your code to use the new functions, please see\n",
            "https://gist.github.com/mwaskom/de44147ed2974457ad6372750bbe5751\n",
            "\n",
            "  ax = sns.distplot(dados.Renda, kde = True)\n"
          ]
        },
        {
          "data": {
            "text/plain": [
              "Text(0.5, 1.0, 'Histograma - Renda')"
            ]
          },
          "execution_count": 122,
          "metadata": {},
          "output_type": "execute_result"
        },
        {
          "data": {
            "image/png": "[encoded data removed]",
            "text/plain": [
              "<Figure size 1200x600 with 1 Axes>"
            ]
          },
          "metadata": {},
          "output_type": "display_data"
        }
      ],
      "source": [
        "ax = sns.distplot(dados.Renda, kde = True)\n",
        "ax.figure.set_size_inches(12,6)\n",
        "ax.set_title(\"Histograma - Renda\")"
      ]
    },
    {
      "cell_type": "code",
      "execution_count": null,
      "metadata": {
        "id": "lIXtYbMlcBuh",
        "outputId": "8cc30c0e-9907-4614-bc13-b2a18430a402"
      },
      "outputs": [
        {
          "name": "stderr",
          "output_type": "stream",
          "text": [
            "C:\\Users\\win\\AppData\\Local\\Temp\\ipykernel_14464\\3271352062.py:1: UserWarning: \n",
            "\n",
            "`distplot` is a deprecated function and will be removed in seaborn v0.14.0.\n",
            "\n",
            "Please adapt your code to use either `displot` (a figure-level function with\n",
            "similar flexibility) or `histplot` (an axes-level function for histograms).\n",
            "\n",
            "For a guide to updating your code to use the new functions, please see\n",
            "https://gist.github.com/mwaskom/de44147ed2974457ad6372750bbe5751\n",
            "\n",
            "  ax = sns.distplot(dados.Altura, kde = False)\n"
          ]
        },
        {
          "data": {
            "image/png": "[encoded data removed]",
            "text/plain": [
              "<Figure size 640x480 with 1 Axes>"
            ]
          },
          "metadata": {},
          "output_type": "display_data"
        }
      ],
      "source": [
        "ax = sns.distplot(dados.Altura, kde = False)"
      ]
    },
    {
      "cell_type": "markdown",
      "metadata": {
        "id": "w45i-qJ1Tg2E"
      },
      "source": [
        "> ### Conclusões\n",
        "\n",
        "Aqui vemos:\n",
        "- A media da idade dos respondentes esta em torno dos 40 anos;\n",
        "    - Assimetrico a direita\n",
        "\n",
        "- A media de altura dos respondentes esta em torno dos 1.70.\n",
        "    - Possivelmente Simetrico\n",
        "\n",
        "- Existe muitos dados que recebem uma renda ate R$ 10000\n",
        "    - Assimetrico a direita"
      ]
    },
    {
      "cell_type": "markdown",
      "metadata": {
        "id": "pnAH1T5fTg2F"
      },
      "source": [
        "### Para a variável RENDA, construa um histograma somente com as informações das pessoas com rendimento até R$ 20.000,00"
      ]
    },
    {
      "cell_type": "code",
      "execution_count": null,
      "metadata": {
        "id": "C7zHF1vPTg2G",
        "outputId": "853bb3d8-dbcf-43bc-84e1-4daeb7c2a93e"
      },
      "outputs": [
        {
          "name": "stderr",
          "output_type": "stream",
          "text": [
            "C:\\Users\\win\\AppData\\Local\\Temp\\ipykernel_14464\\1935378840.py:1: UserWarning: \n",
            "\n",
            "`distplot` is a deprecated function and will be removed in seaborn v0.14.0.\n",
            "\n",
            "Please adapt your code to use either `displot` (a figure-level function with\n",
            "similar flexibility) or `histplot` (an axes-level function for histograms).\n",
            "\n",
            "For a guide to updating your code to use the new functions, please see\n",
            "https://gist.github.com/mwaskom/de44147ed2974457ad6372750bbe5751\n",
            "\n",
            "  ax = sns.distplot(dados.query(\"Renda < 20000\").Renda , kde = False)\n"
          ]
        },
        {
          "data": {
            "text/plain": [
              "Text(0.5, 1.0, 'Histograma de Frequencia de Renda ate R$20.000,00 ')"
            ]
          },
          "execution_count": 124,
          "metadata": {},
          "output_type": "execute_result"
        },
        {
          "data": {
            "image/png": "[encoded data removed]",
            "text/plain": [
              "<Figure size 1200x600 with 1 Axes>"
            ]
          },
          "metadata": {},
          "output_type": "display_data"
        }
      ],
      "source": [
        "ax = sns.distplot(dados.query(\"Renda < 20000\").Renda , kde = False)\n",
        "ax.figure.set_size_inches(12,6)\n",
        "ax.set_title(\"Histograma de Frequencia de Renda ate R$20.000,00 \")\n"
      ]
    },
    {
      "cell_type": "markdown",
      "metadata": {
        "id": "vvtzLOUKTg2H"
      },
      "source": [
        "### Construa uma tabela de frequências e uma com os percentuais do cruzando das variáveis SEXO e COR\n",
        "#### <font color='blue'>Avalie o resultado da tabela e escreva suas principais conclusões</font>\n",
        "#### <font color='red'>Utilize os dicionários abaixo para renomear as linha e colunas das tabelas de frequências e dos gráficos em nosso projeto</font>"
      ]
    },
    {
      "cell_type": "code",
      "execution_count": null,
      "metadata": {
        "id": "sChJRo_qTg2I"
      },
      "outputs": [],
      "source": [
        "sexo = {\n",
        "    0: 'Masculino',\n",
        "    1: 'Feminino'\n",
        "}\n",
        "cor = {\n",
        "    0: 'Indígena',\n",
        "    2: 'Branca',\n",
        "    4: 'Preta',\n",
        "    6: 'Amarela',\n",
        "    8: 'Parda',\n",
        "    9: 'Sem declaração'\n",
        "}\n",
        "anos_de_estudo = {\n",
        "    1: 'Sem instrução e menos de 1 ano',\n",
        "    2: '1 ano',\n",
        "    3: '2 anos',\n",
        "    4: '3 anos',\n",
        "    5: '4 anos',\n",
        "    6: '5 anos',\n",
        "    7: '6 anos',\n",
        "    8: '7 anos',\n",
        "    9: '8 anos',\n",
        "    10: '9 anos',\n",
        "    11: '10 anos',\n",
        "    12: '11 anos',\n",
        "    13: '12 anos',\n",
        "    14: '13 anos',\n",
        "    15: '14 anos',\n",
        "    16: '15 anos ou mais',\n",
        "    17: 'Não determinados'\n",
        "}\n",
        "uf = {\n",
        "    11: 'Rondônia',\n",
        "    12: 'Acre',\n",
        "    13: 'Amazonas',\n",
        "    14: 'Roraima',\n",
        "    15: 'Pará',\n",
        "    16: 'Amapá',\n",
        "    17: 'Tocantins',\n",
        "    21: 'Maranhão',\n",
        "    22: 'Piauí',\n",
        "    23: 'Ceará',\n",
        "    24: 'Rio Grande do Norte',\n",
        "    25: 'Paraíba',\n",
        "    26: 'Pernambuco',\n",
        "    27: 'Alagoas',\n",
        "    28: 'Sergipe',\n",
        "    29: 'Bahia',\n",
        "    31: 'Minas Gerais',\n",
        "    32: 'Espírito Santo',\n",
        "    33: 'Rio de Janeiro',\n",
        "    35: 'São Paulo',\n",
        "    41: 'Paraná',\n",
        "    42: 'Santa Catarina',\n",
        "    43: 'Rio Grande do Sul',\n",
        "    50: 'Mato Grosso do Sul',\n",
        "    51: 'Mato Grosso',\n",
        "    52: 'Goiás',\n",
        "    53: 'Distrito Federal'\n",
        "}"
      ]
    },
    {
      "cell_type": "code",
      "execution_count": null,
      "metadata": {
        "id": "hWrccsMicBui"
      },
      "outputs": [],
      "source": [
        "dados.UF.replace(uf, inplace=True)\n",
        "dados.Sexo.replace(sexo, inplace=True)\n",
        "dados.Cor.replace(cor, inplace=True)\n",
        "dados[\"Anos de Estudo\"].replace(anos_de_estudo, inplace=True)"
      ]
    },
    {
      "cell_type": "code",
      "execution_count": null,
      "metadata": {
        "id": "z7GRQv-TcBui",
        "outputId": "836d20b3-3766-4b99-8f46-c4f54e31dff5"
      },
      "outputs": [
        {
          "data": {
            "text/html": [
              "<div>\n",
              "<style scoped>\n",
              "    .dataframe tbody tr th:only-of-type {\n",
              "        vertical-align: middle;\n",
              "    }\n",
              "\n",
              "    .dataframe tbody tr th {\n",
              "        vertical-align: top;\n",
              "    }\n",
              "\n",
              "    .dataframe thead th {\n",
              "        text-align: right;\n",
              "    }\n",
              "</style>\n",
              "<table border=\"1\" class=\"dataframe\">\n",
              "  <thead>\n",
              "    <tr style=\"text-align: right;\">\n",
              "      <th></th>\n",
              "      <th>UF</th>\n",
              "      <th>Sexo</th>\n",
              "      <th>Idade</th>\n",
              "      <th>Cor</th>\n",
              "      <th>Anos de Estudo</th>\n",
              "      <th>Renda</th>\n",
              "      <th>Altura</th>\n",
              "    </tr>\n",
              "  </thead>\n",
              "  <tbody>\n",
              "    <tr>\n",
              "      <th>0</th>\n",
              "      <td>Rondônia</td>\n",
              "      <td>Masculino</td>\n",
              "      <td>23</td>\n",
              "      <td>Parda</td>\n",
              "      <td>11 anos</td>\n",
              "      <td>800</td>\n",
              "      <td>1.603808</td>\n",
              "    </tr>\n",
              "    <tr>\n",
              "      <th>1</th>\n",
              "      <td>Rondônia</td>\n",
              "      <td>Feminino</td>\n",
              "      <td>23</td>\n",
              "      <td>Branca</td>\n",
              "      <td>11 anos</td>\n",
              "      <td>1150</td>\n",
              "      <td>1.739790</td>\n",
              "    </tr>\n",
              "    <tr>\n",
              "      <th>2</th>\n",
              "      <td>Rondônia</td>\n",
              "      <td>Feminino</td>\n",
              "      <td>35</td>\n",
              "      <td>Parda</td>\n",
              "      <td>14 anos</td>\n",
              "      <td>880</td>\n",
              "      <td>1.760444</td>\n",
              "    </tr>\n",
              "    <tr>\n",
              "      <th>3</th>\n",
              "      <td>Rondônia</td>\n",
              "      <td>Masculino</td>\n",
              "      <td>46</td>\n",
              "      <td>Branca</td>\n",
              "      <td>5 anos</td>\n",
              "      <td>3500</td>\n",
              "      <td>1.783158</td>\n",
              "    </tr>\n",
              "    <tr>\n",
              "      <th>4</th>\n",
              "      <td>Rondônia</td>\n",
              "      <td>Feminino</td>\n",
              "      <td>47</td>\n",
              "      <td>Parda</td>\n",
              "      <td>8 anos</td>\n",
              "      <td>150</td>\n",
              "      <td>1.690631</td>\n",
              "    </tr>\n",
              "  </tbody>\n",
              "</table>\n",
              "</div>"
            ],
            "text/plain": [
              "         UF       Sexo  Idade     Cor Anos de Estudo  Renda    Altura\n",
              "0  Rondônia  Masculino     23   Parda        11 anos    800  1.603808\n",
              "1  Rondônia   Feminino     23  Branca        11 anos   1150  1.739790\n",
              "2  Rondônia   Feminino     35   Parda        14 anos    880  1.760444\n",
              "3  Rondônia  Masculino     46  Branca         5 anos   3500  1.783158\n",
              "4  Rondônia   Feminino     47   Parda         8 anos    150  1.690631"
            ]
          },
          "execution_count": 127,
          "metadata": {},
          "output_type": "execute_result"
        }
      ],
      "source": [
        "dados.head()"
      ]
    },
    {
      "cell_type": "code",
      "execution_count": null,
      "metadata": {
        "id": "KbeFXAGSTg2K",
        "outputId": "8ba38f14-a697-49bd-f3bf-6f755a3d985b"
      },
      "outputs": [
        {
          "data": {
            "text/html": [
              "<div>\n",
              "<style scoped>\n",
              "    .dataframe tbody tr th:only-of-type {\n",
              "        vertical-align: middle;\n",
              "    }\n",
              "\n",
              "    .dataframe tbody tr th {\n",
              "        vertical-align: top;\n",
              "    }\n",
              "\n",
              "    .dataframe thead th {\n",
              "        text-align: right;\n",
              "    }\n",
              "</style>\n",
              "<table border=\"1\" class=\"dataframe\">\n",
              "  <thead>\n",
              "    <tr style=\"text-align: right;\">\n",
              "      <th>Cor</th>\n",
              "      <th>Amarela</th>\n",
              "      <th>Branca</th>\n",
              "      <th>Indígena</th>\n",
              "      <th>Parda</th>\n",
              "      <th>Preta</th>\n",
              "      <th>Total</th>\n",
              "    </tr>\n",
              "    <tr>\n",
              "      <th>Sexo</th>\n",
              "      <th></th>\n",
              "      <th></th>\n",
              "      <th></th>\n",
              "      <th></th>\n",
              "      <th></th>\n",
              "      <th></th>\n",
              "    </tr>\n",
              "  </thead>\n",
              "  <tbody>\n",
              "    <tr>\n",
              "      <th>Feminino</th>\n",
              "      <td>117</td>\n",
              "      <td>9621</td>\n",
              "      <td>101</td>\n",
              "      <td>10862</td>\n",
              "      <td>2889</td>\n",
              "      <td>23590</td>\n",
              "    </tr>\n",
              "    <tr>\n",
              "      <th>Masculino</th>\n",
              "      <td>235</td>\n",
              "      <td>22194</td>\n",
              "      <td>256</td>\n",
              "      <td>25063</td>\n",
              "      <td>5502</td>\n",
              "      <td>53250</td>\n",
              "    </tr>\n",
              "  </tbody>\n",
              "</table>\n",
              "</div>"
            ],
            "text/plain": [
              "Cor        Amarela  Branca  Indígena  Parda  Preta  Total\n",
              "Sexo                                                     \n",
              "Feminino       117    9621       101  10862   2889  23590\n",
              "Masculino      235   22194       256  25063   5502  53250"
            ]
          },
          "execution_count": 128,
          "metadata": {},
          "output_type": "execute_result"
        }
      ],
      "source": [
        "df_frq_sexo = pd.crosstab(dados.Sexo,dados.Cor)\n",
        "df_frq_sexo.rename(index = sexo , columns=cor, inplace=True)\n",
        "df_frq_sexo\n",
        "\n",
        "\n",
        "df_frq_sexo[\"Total\"] = dados.Sexo.value_counts()\n",
        "df_frq_sexo.sort_index()"
      ]
    },
    {
      "cell_type": "code",
      "execution_count": null,
      "metadata": {
        "id": "CALfie1KcBur",
        "outputId": "d653fd1c-8b56-4bc9-8c47-25cc69b1d3c4"
      },
      "outputs": [
        {
          "data": {
            "text/plain": [
              "76840"
            ]
          },
          "execution_count": 129,
          "metadata": {},
          "output_type": "execute_result"
        }
      ],
      "source": [
        "dados.shape[0]"
      ]
    },
    {
      "cell_type": "code",
      "execution_count": null,
      "metadata": {
        "id": "csL1jaeSTg2M",
        "outputId": "4f027db0-bc77-4cd6-f8bc-ce3d800f20b7"
      },
      "outputs": [
        {
          "data": {
            "text/html": [
              "<div>\n",
              "<style scoped>\n",
              "    .dataframe tbody tr th:only-of-type {\n",
              "        vertical-align: middle;\n",
              "    }\n",
              "\n",
              "    .dataframe tbody tr th {\n",
              "        vertical-align: top;\n",
              "    }\n",
              "\n",
              "    .dataframe thead th {\n",
              "        text-align: right;\n",
              "    }\n",
              "</style>\n",
              "<table border=\"1\" class=\"dataframe\">\n",
              "  <thead>\n",
              "    <tr style=\"text-align: right;\">\n",
              "      <th>Cor</th>\n",
              "      <th>Amarela</th>\n",
              "      <th>Branca</th>\n",
              "      <th>Indígena</th>\n",
              "      <th>Parda</th>\n",
              "      <th>Preta</th>\n",
              "      <th>Total</th>\n",
              "    </tr>\n",
              "    <tr>\n",
              "      <th>Sexo</th>\n",
              "      <th></th>\n",
              "      <th></th>\n",
              "      <th></th>\n",
              "      <th></th>\n",
              "      <th></th>\n",
              "      <th></th>\n",
              "    </tr>\n",
              "  </thead>\n",
              "  <tbody>\n",
              "    <tr>\n",
              "      <th>Feminino</th>\n",
              "      <td>0.152264</td>\n",
              "      <td>12.520822</td>\n",
              "      <td>0.131442</td>\n",
              "      <td>14.135867</td>\n",
              "      <td>3.759761</td>\n",
              "      <td>30.700156</td>\n",
              "    </tr>\n",
              "    <tr>\n",
              "      <th>Masculino</th>\n",
              "      <td>0.305830</td>\n",
              "      <td>28.883394</td>\n",
              "      <td>0.333160</td>\n",
              "      <td>32.617126</td>\n",
              "      <td>7.160333</td>\n",
              "      <td>69.299844</td>\n",
              "    </tr>\n",
              "  </tbody>\n",
              "</table>\n",
              "</div>"
            ],
            "text/plain": [
              "Cor         Amarela     Branca  Indígena      Parda     Preta      Total\n",
              "Sexo                                                                    \n",
              "Feminino   0.152264  12.520822  0.131442  14.135867  3.759761  30.700156\n",
              "Masculino  0.305830  28.883394  0.333160  32.617126  7.160333  69.299844"
            ]
          },
          "execution_count": 130,
          "metadata": {},
          "output_type": "execute_result"
        }
      ],
      "source": [
        "df_percent_sexo = pd.crosstab(dados.Sexo, dados.Cor, normalize=True)\n",
        "df_percent_sexo = df_percent_sexo *100\n",
        "df_percent_sexo.rename(index = sexo , columns=cor, inplace=True)\n",
        "df_percent_sexo\n",
        "\n",
        "df_percent_sexo[\"Total\"] = dados.Sexo.value_counts(normalize=True) *100\n",
        "df_percent_sexo"
      ]
    },
    {
      "cell_type": "markdown",
      "metadata": {
        "id": "2jLZmww2Tg2O"
      },
      "source": [
        "> ### Conclusões\n",
        "\n",
        "Vemos aqui:\n",
        "- Muitas pessoas dos sexos F e M Pardas e Brancas\n",
        "- Frequencia do sexo Masculino muito evidente\n",
        "\n"
      ]
    },
    {
      "cell_type": "markdown",
      "metadata": {
        "id": "Aoeayf6zTg2P"
      },
      "source": [
        "## Realize, para a variável RENDA, uma análise descritiva com as ferramentas que aprendemos em nosso treinamento"
      ]
    },
    {
      "cell_type": "markdown",
      "metadata": {
        "id": "c2CtT71oTg2P"
      },
      "source": [
        "### Obtenha a média aritimética"
      ]
    },
    {
      "cell_type": "code",
      "execution_count": null,
      "metadata": {
        "id": "qlJESCU6Tg2P",
        "outputId": "aaba30a3-c084-44d7-db9b-d09668924815"
      },
      "outputs": [
        {
          "data": {
            "text/plain": [
              "2000.3831988547631"
            ]
          },
          "execution_count": 131,
          "metadata": {},
          "output_type": "execute_result"
        }
      ],
      "source": [
        "media = dados.Renda.mean()\n",
        "media"
      ]
    },
    {
      "cell_type": "markdown",
      "metadata": {
        "id": "Xd4saPBCTg2R"
      },
      "source": [
        "### Obtenha a mediana"
      ]
    },
    {
      "cell_type": "code",
      "execution_count": null,
      "metadata": {
        "id": "vHTqX-UATg2R",
        "outputId": "b2b6e86b-9729-4d59-b30e-647ac7e10375"
      },
      "outputs": [
        {
          "data": {
            "text/plain": [
              "1200.0"
            ]
          },
          "execution_count": 132,
          "metadata": {},
          "output_type": "execute_result"
        }
      ],
      "source": [
        "mediana = dados.Renda.median()\n",
        "mediana"
      ]
    },
    {
      "cell_type": "markdown",
      "metadata": {
        "id": "_e40rDSwTg2U"
      },
      "source": [
        "### Obtenha a moda"
      ]
    },
    {
      "cell_type": "code",
      "execution_count": null,
      "metadata": {
        "id": "BFOOdYOvTg2V",
        "outputId": "617b2732-a403-45b4-d5ec-309adfdcc023"
      },
      "outputs": [
        {
          "data": {
            "text/plain": [
              "788"
            ]
          },
          "execution_count": 133,
          "metadata": {},
          "output_type": "execute_result"
        }
      ],
      "source": [
        "moda = dados.Renda.mode()[0]\n",
        "moda"
      ]
    },
    {
      "cell_type": "markdown",
      "metadata": {
        "id": "Rnr1gOCMTg2X"
      },
      "source": [
        "### Obtenha o desvio médio absoluto"
      ]
    },
    {
      "cell_type": "code",
      "execution_count": null,
      "metadata": {
        "id": "TmE_1QDGTg2Y",
        "outputId": "260d3a51-13c9-4ef5-b063-21b1873de291"
      },
      "outputs": [
        {
          "name": "stdout",
          "output_type": "stream",
          "text": [
            " O desvio Medio Absoluto da coluna 'Renda' e igual a 1526.4951371638058\n"
          ]
        },
        {
          "name": "stderr",
          "output_type": "stream",
          "text": [
            "C:\\Users\\win\\AppData\\Local\\Temp\\ipykernel_14464\\2563201650.py:10: SettingWithCopyWarning: \n",
            "A value is trying to be set on a copy of a slice from a DataFrame.\n",
            "Try using .loc[row_indexer,col_indexer] = value instead\n",
            "\n",
            "See the caveats in the documentation: https://pandas.pydata.org/pandas-docs/stable/user_guide/indexing.html#returning-a-view-versus-a-copy\n",
            "  vlrs_renda_DMA[\"Desvio\"]  = vlrs_renda_DMA.Renda - media_Renda\n",
            "C:\\Users\\win\\AppData\\Local\\Temp\\ipykernel_14464\\2563201650.py:17: SettingWithCopyWarning: \n",
            "A value is trying to be set on a copy of a slice from a DataFrame.\n",
            "Try using .loc[row_indexer,col_indexer] = value instead\n",
            "\n",
            "See the caveats in the documentation: https://pandas.pydata.org/pandas-docs/stable/user_guide/indexing.html#returning-a-view-versus-a-copy\n",
            "  vlrs_renda_DMA[\"|Desvio|\"] = vlrs_renda_DMA.Desvio.abs()\n"
          ]
        }
      ],
      "source": [
        "# Step 1 - Criando Df a partir da Renda\n",
        "vlrs_renda_DMA = dados[[\"Renda\"]]\n",
        "vlrs_renda_DMA\n",
        "\n",
        "# Step 2 - Tirando a media\n",
        "media_Renda = dados.Renda.mean()\n",
        "\n",
        "\n",
        "# Step 3 - Renda - media_Renda\n",
        "vlrs_renda_DMA[\"Desvio\"]  = vlrs_renda_DMA.Renda - media_Renda\n",
        "\n",
        "vlrs_renda_DMA\n",
        "\n",
        "\n",
        "# Desconsiderando Sinal Negativo\n",
        "\n",
        "vlrs_renda_DMA[\"|Desvio|\"] = vlrs_renda_DMA.Desvio.abs()\n",
        "\n",
        "vlrs_renda_DMA\n",
        "\n",
        "\n",
        "# Tirando DMA\n",
        "\n",
        "\n",
        "Desvio_medio_absoluto = vlrs_renda_DMA[\"|Desvio|\"].mean()\n",
        "\n",
        "\n",
        "\n",
        "print(f\" O desvio Medio Absoluto da coluna 'Renda' e igual a {Desvio_medio_absoluto}\")"
      ]
    },
    {
      "cell_type": "markdown",
      "metadata": {
        "id": "hCgV_XaQTg2Z"
      },
      "source": [
        "### Obtenha a variância"
      ]
    },
    {
      "cell_type": "code",
      "execution_count": null,
      "metadata": {
        "id": "SwRgACeGTg2a",
        "outputId": "656036cf-f1cb-48ac-a1b8-d7b486a50537"
      },
      "outputs": [
        {
          "name": "stdout",
          "output_type": "stream",
          "text": [
            "A Variancia da coluna 'Renda' e igual a 11044906.006217021\n"
          ]
        }
      ],
      "source": [
        "Variancia = dados.Renda.var()\n",
        "print(f\"A Variancia da coluna 'Renda' e igual a {Variancia}\")"
      ]
    },
    {
      "cell_type": "markdown",
      "metadata": {
        "id": "gsO6MKOcTg2c"
      },
      "source": [
        "### Obtenha o desvio-padrão"
      ]
    },
    {
      "cell_type": "code",
      "execution_count": null,
      "metadata": {
        "id": "gR-LVTRYTg2d",
        "outputId": "f6e811f1-2f3c-494b-e316-dde7aaa1e427"
      },
      "outputs": [
        {
          "name": "stdout",
          "output_type": "stream",
          "text": [
            "O Desvio Padra da coluna 'Renda' e igual a 3323.3877303464037\n"
          ]
        }
      ],
      "source": [
        "Desvio_Padrao_Renda = dados.Renda.std()\n",
        "print(f\"O Desvio Padra da coluna 'Renda' e igual a {Desvio_Padrao_Renda}\")"
      ]
    },
    {
      "cell_type": "markdown",
      "metadata": {
        "id": "vG-rdO5fTg2f"
      },
      "source": [
        "### Obtenha a média, mediana e valor máximo da variável RENDA segundo SEXO e COR\n",
        "#### <font color='blue'>Destaque os pontos mais importante que você observa nas tabulações</font>\n",
        "#### <font color='red'>O parâmento <i>aggfunc</i> da função <i>crosstab()</i> pode receber uma lista de funções. Exemplo: <i>aggfunc = {'mean', 'median', 'max'}</i></font>"
      ]
    },
    {
      "cell_type": "code",
      "execution_count": null,
      "metadata": {
        "id": "VgxygKWXTg2g",
        "outputId": "34f0065a-4ecc-43c9-ccea-b936c7f32787"
      },
      "outputs": [
        {
          "data": {
            "text/html": [
              "<div>\n",
              "<style scoped>\n",
              "    .dataframe tbody tr th:only-of-type {\n",
              "        vertical-align: middle;\n",
              "    }\n",
              "\n",
              "    .dataframe tbody tr th {\n",
              "        vertical-align: top;\n",
              "    }\n",
              "\n",
              "    .dataframe thead tr th {\n",
              "        text-align: left;\n",
              "    }\n",
              "\n",
              "    .dataframe thead tr:last-of-type th {\n",
              "        text-align: right;\n",
              "    }\n",
              "</style>\n",
              "<table border=\"1\" class=\"dataframe\">\n",
              "  <thead>\n",
              "    <tr>\n",
              "      <th></th>\n",
              "      <th colspan=\"5\" halign=\"left\">mean</th>\n",
              "      <th colspan=\"5\" halign=\"left\">median</th>\n",
              "      <th colspan=\"5\" halign=\"left\">max</th>\n",
              "    </tr>\n",
              "    <tr>\n",
              "      <th>Cor</th>\n",
              "      <th>Amarela</th>\n",
              "      <th>Branca</th>\n",
              "      <th>Indígena</th>\n",
              "      <th>Parda</th>\n",
              "      <th>Preta</th>\n",
              "      <th>Amarela</th>\n",
              "      <th>Branca</th>\n",
              "      <th>Indígena</th>\n",
              "      <th>Parda</th>\n",
              "      <th>Preta</th>\n",
              "      <th>Amarela</th>\n",
              "      <th>Branca</th>\n",
              "      <th>Indígena</th>\n",
              "      <th>Parda</th>\n",
              "      <th>Preta</th>\n",
              "    </tr>\n",
              "    <tr>\n",
              "      <th>Sexo</th>\n",
              "      <th></th>\n",
              "      <th></th>\n",
              "      <th></th>\n",
              "      <th></th>\n",
              "      <th></th>\n",
              "      <th></th>\n",
              "      <th></th>\n",
              "      <th></th>\n",
              "      <th></th>\n",
              "      <th></th>\n",
              "      <th></th>\n",
              "      <th></th>\n",
              "      <th></th>\n",
              "      <th></th>\n",
              "      <th></th>\n",
              "    </tr>\n",
              "  </thead>\n",
              "  <tbody>\n",
              "    <tr>\n",
              "      <th>Feminino</th>\n",
              "      <td>3027.341880</td>\n",
              "      <td>2109.866750</td>\n",
              "      <td>2464.386139</td>\n",
              "      <td>1176.758516</td>\n",
              "      <td>1134.596400</td>\n",
              "      <td>1500.0</td>\n",
              "      <td>1200.0</td>\n",
              "      <td>788.0</td>\n",
              "      <td>800.0</td>\n",
              "      <td>800.0</td>\n",
              "      <td>20000</td>\n",
              "      <td>100000</td>\n",
              "      <td>120000</td>\n",
              "      <td>30000</td>\n",
              "      <td>23000</td>\n",
              "    </tr>\n",
              "    <tr>\n",
              "      <th>Masculino</th>\n",
              "      <td>4758.251064</td>\n",
              "      <td>2925.744435</td>\n",
              "      <td>1081.710938</td>\n",
              "      <td>1659.577425</td>\n",
              "      <td>1603.861687</td>\n",
              "      <td>2800.0</td>\n",
              "      <td>1700.0</td>\n",
              "      <td>797.5</td>\n",
              "      <td>1200.0</td>\n",
              "      <td>1200.0</td>\n",
              "      <td>50000</td>\n",
              "      <td>200000</td>\n",
              "      <td>10000</td>\n",
              "      <td>100000</td>\n",
              "      <td>50000</td>\n",
              "    </tr>\n",
              "  </tbody>\n",
              "</table>\n",
              "</div>"
            ],
            "text/plain": [
              "                  mean                                                      \\\n",
              "Cor            Amarela       Branca     Indígena        Parda        Preta   \n",
              "Sexo                                                                         \n",
              "Feminino   3027.341880  2109.866750  2464.386139  1176.758516  1134.596400   \n",
              "Masculino  4758.251064  2925.744435  1081.710938  1659.577425  1603.861687   \n",
              "\n",
              "           median                                      max                   \\\n",
              "Cor       Amarela  Branca Indígena   Parda   Preta Amarela  Branca Indígena   \n",
              "Sexo                                                                          \n",
              "Feminino   1500.0  1200.0    788.0   800.0   800.0   20000  100000   120000   \n",
              "Masculino  2800.0  1700.0    797.5  1200.0  1200.0   50000  200000    10000   \n",
              "\n",
              "                          \n",
              "Cor         Parda  Preta  \n",
              "Sexo                      \n",
              "Feminino    30000  23000  \n",
              "Masculino  100000  50000  "
            ]
          },
          "execution_count": 137,
          "metadata": {},
          "output_type": "execute_result"
        }
      ],
      "source": [
        "df_sexo_cor = pd.crosstab(dados.Sexo, dados.Cor , aggfunc=[\"mean\" , \"median\" , \"max\"] ,values=dados.Renda)\n",
        "df_sexo_cor"
      ]
    },
    {
      "cell_type": "code",
      "execution_count": null,
      "metadata": {
        "id": "jI1xI5hmcBuv",
        "outputId": "e2c3310a-ba87-4b8f-f76e-6760c20de9e7"
      },
      "outputs": [
        {
          "data": {
            "text/plain": [
              "8115.046390898136"
            ]
          },
          "execution_count": 138,
          "metadata": {},
          "output_type": "execute_result"
        }
      ],
      "source": [
        "media_todos_os_vlrs_M = df_sexo_cor.loc[\"Masculino\"].mean()\n",
        "media_todos_os_vlrs_F = df_sexo_cor.loc[\"Feminino\"].mean()\n",
        "\n",
        "diferenca = media_todos_os_vlrs_M - media_todos_os_vlrs_F\n",
        "diferenca"
      ]
    },
    {
      "cell_type": "markdown",
      "metadata": {
        "id": "ibndm9iwTg2i"
      },
      "source": [
        "> ### Conclusões\n",
        "\n",
        "Aqui Vemos:\n",
        "\n",
        "- As pessoas do sexo Feminino da cor Parda e Preta possuem as menores [Medias e Medianas]\n",
        "- O valor Maximo  chamou a atencao por conta dos valores muito grandes\n",
        "\n",
        "- A media total do df dividida pelo Sexo mostrou que fazendo a diferenca obteve o total de 8115.046390898136 em relacao ao sexo Feminino (Masculino - Feminino) Ou (vlr M - vlr - m). Isso mostrou que os entrevistados do sexo Masculino recebem mais independente da quantidade das pessoas no df.\n",
        "\n"
      ]
    },
    {
      "cell_type": "markdown",
      "metadata": {
        "id": "CleJ6c1rTg2i"
      },
      "source": [
        "### Obtenha as medidas de dispersão da variável RENDA segundo SEXO e COR\n",
        "#### <font color='blue'>Destaque os pontos mais importante que você observa nas tabulações</font>\n",
        "#### <font color='red'>O parâmento <i>aggfunc</i> da função <i>crosstab()</i> pode receber uma lista de funções. Exemplo: <i>aggfunc = {'mad', 'var', 'std'}</i></font>"
      ]
    },
    {
      "cell_type": "code",
      "execution_count": null,
      "metadata": {
        "id": "bNv-eWZ3Tg2j",
        "outputId": "1bc65270-64d8-4483-b445-351b21485119"
      },
      "outputs": [
        {
          "data": {
            "text/html": [
              "<div>\n",
              "<style scoped>\n",
              "    .dataframe tbody tr th:only-of-type {\n",
              "        vertical-align: middle;\n",
              "    }\n",
              "\n",
              "    .dataframe tbody tr th {\n",
              "        vertical-align: top;\n",
              "    }\n",
              "\n",
              "    .dataframe thead tr th {\n",
              "        text-align: left;\n",
              "    }\n",
              "\n",
              "    .dataframe thead tr:last-of-type th {\n",
              "        text-align: right;\n",
              "    }\n",
              "</style>\n",
              "<table border=\"1\" class=\"dataframe\">\n",
              "  <thead>\n",
              "    <tr>\n",
              "      <th></th>\n",
              "      <th colspan=\"5\" halign=\"left\">var</th>\n",
              "      <th colspan=\"5\" halign=\"left\">std</th>\n",
              "    </tr>\n",
              "    <tr>\n",
              "      <th>Cor</th>\n",
              "      <th>Amarela</th>\n",
              "      <th>Branca</th>\n",
              "      <th>Indígena</th>\n",
              "      <th>Parda</th>\n",
              "      <th>Preta</th>\n",
              "      <th>Amarela</th>\n",
              "      <th>Branca</th>\n",
              "      <th>Indígena</th>\n",
              "      <th>Parda</th>\n",
              "      <th>Preta</th>\n",
              "    </tr>\n",
              "    <tr>\n",
              "      <th>Sexo</th>\n",
              "      <th></th>\n",
              "      <th></th>\n",
              "      <th></th>\n",
              "      <th></th>\n",
              "      <th></th>\n",
              "      <th></th>\n",
              "      <th></th>\n",
              "      <th></th>\n",
              "      <th></th>\n",
              "      <th></th>\n",
              "    </tr>\n",
              "  </thead>\n",
              "  <tbody>\n",
              "    <tr>\n",
              "      <th>Feminino</th>\n",
              "      <td>1.392166e+07</td>\n",
              "      <td>1.056909e+07</td>\n",
              "      <td>1.429818e+08</td>\n",
              "      <td>2.547960e+06</td>\n",
              "      <td>1.821960e+06</td>\n",
              "      <td>3731.17366</td>\n",
              "      <td>3251.013154</td>\n",
              "      <td>11957.498292</td>\n",
              "      <td>1596.233048</td>\n",
              "      <td>1349.799809</td>\n",
              "    </tr>\n",
              "    <tr>\n",
              "      <th>Masculino</th>\n",
              "      <td>3.295707e+07</td>\n",
              "      <td>2.257002e+07</td>\n",
              "      <td>1.449841e+06</td>\n",
              "      <td>5.345747e+06</td>\n",
              "      <td>3.749294e+06</td>\n",
              "      <td>5740.82482</td>\n",
              "      <td>4750.791872</td>\n",
              "      <td>1204.093490</td>\n",
              "      <td>2312.087184</td>\n",
              "      <td>1936.309271</td>\n",
              "    </tr>\n",
              "  </tbody>\n",
              "</table>\n",
              "</div>"
            ],
            "text/plain": [
              "                    var                                            \\\n",
              "Cor             Amarela        Branca      Indígena         Parda   \n",
              "Sexo                                                                \n",
              "Feminino   1.392166e+07  1.056909e+07  1.429818e+08  2.547960e+06   \n",
              "Masculino  3.295707e+07  2.257002e+07  1.449841e+06  5.345747e+06   \n",
              "\n",
              "                                std                                          \\\n",
              "Cor               Preta     Amarela       Branca      Indígena        Parda   \n",
              "Sexo                                                                          \n",
              "Feminino   1.821960e+06  3731.17366  3251.013154  11957.498292  1596.233048   \n",
              "Masculino  3.749294e+06  5740.82482  4750.791872   1204.093490  2312.087184   \n",
              "\n",
              "                        \n",
              "Cor              Preta  \n",
              "Sexo                    \n",
              "Feminino   1349.799809  \n",
              "Masculino  1936.309271  "
            ]
          },
          "execution_count": 139,
          "metadata": {},
          "output_type": "execute_result"
        }
      ],
      "source": [
        "df_sexo_cor_MD = pd.crosstab(dados.Sexo, dados.Cor,\n",
        "                             aggfunc=[\"var\" , \"std\"],\n",
        "                             values=dados.Renda,\n",
        "                             )\n",
        "df_sexo_cor_MD"
      ]
    },
    {
      "cell_type": "markdown",
      "metadata": {
        "id": "57aHvJMSTg2l"
      },
      "source": [
        "> ### Conclusões\n",
        "\n",
        "Corrigir!!!!!!!!!\n"
      ]
    },
    {
      "cell_type": "markdown",
      "metadata": {
        "id": "QSYjkdyOTg2l"
      },
      "source": [
        "### Construa um box plot da variável RENDA segundo SEXO e COR\n",
        "#### <font color='blue'>É possível verificar algum comportamento diferenciado no rendimento entre os grupos de pessoas analisados? Avalie o gráfico e destaque os pontos mais importantes.</font>\n",
        "#### <font color='red'>1º - Utilize somente as informações de pessoas com renda abaixo de R$ 10.000</font>\n",
        "#### <font color='red'>2º - Para incluir uma terceira variável na construção de um boxplot utilize o parâmetro <i>hue</i> e indique a variável que quer incluir na subdivisão.</font>\n",
        "#### Mais informações: https://seaborn.pydata.org/generated/seaborn.boxplot.html"
      ]
    },
    {
      "cell_type": "code",
      "execution_count": null,
      "metadata": {
        "id": "8hGa4SMRTg2m",
        "outputId": "128c8ba1-7fbc-42f7-a008-6eddab353a37"
      },
      "outputs": [
        {
          "data": {
            "image/png": "[encoded data removed]",
            "text/plain": [
              "<Figure size 640x480 with 1 Axes>"
            ]
          },
          "metadata": {},
          "output_type": "display_data"
        }
      ],
      "source": [
        "ax = sns.boxplot(data = dados,\n",
        "                 x =dados.query(\"Renda < 10000\").Renda,\n",
        "                 y ='Cor',\n",
        "                 hue = \"Sexo\")"
      ]
    },
    {
      "cell_type": "markdown",
      "metadata": {
        "id": "ROiIQRFhTg2o"
      },
      "source": [
        "> ### Conclusões\n",
        "\n",
        "Aqui vemos:\n",
        "\n",
        "- Nas cores Preta, Parda e Branca existe uma grande quantidade de Outliers;\n",
        "    - A cor Parda possui muitos Outliers\n",
        "\n",
        "- A Distribuicao dos dados das pessoas Amarelas sao evidentes no grafico\n",
        "\n",
        "- A media do boxplot das cores Indigena e Parda do sexo Feminino estao aproximadamente em R$ 788 (SM da epoca)"
      ]
    },
    {
      "cell_type": "markdown",
      "metadata": {
        "id": "zi4BaGooTg2o"
      },
      "source": [
        "# <font color=\"red\">DESAFIO<font>\n",
        "### Qual percentual de pessoas de nosso <i>dataset</i> ganham um salário mínimo (R$ 788,00) ou menos?\n",
        "#### <font color='red'>Utilize a função <i>percentileofscore()</i> do <i>scipy</i> para realizar estas análises.</font>\n",
        "#### Mais informações: https://docs.scipy.org/doc/scipy/reference/generated/scipy.stats.percentileofscore.html\n"
      ]
    },
    {
      "cell_type": "code",
      "execution_count": null,
      "metadata": {
        "id": "9DwXo2yITg2p",
        "outputId": "d9154390-22b8-4536-a1da-1abaf20ea3f5"
      },
      "outputs": [
        {
          "name": "stdout",
          "output_type": "stream",
          "text": [
            "28.87%\n"
          ]
        }
      ],
      "source": [
        "from scipy import stats\n",
        "\n",
        "sm = stats.percentileofscore(dados.Renda,788,kind='weak')\n",
        "print(\"{0:.2f}%\".format(sm))"
      ]
    },
    {
      "cell_type": "markdown",
      "metadata": {
        "id": "bl0fOMuKTg2q"
      },
      "source": [
        "### Qual o valor máximo ganho por 99% das pessoas de nosso <i>dataset</i>?\n",
        "#### <font color='red'>Utilize o método <i>quantile()</i> do <i>pandas</i> para realizar estas análises.</font>"
      ]
    },
    {
      "cell_type": "code",
      "execution_count": null,
      "metadata": {
        "id": "cIVwy8bKTg2q",
        "outputId": "98128aae-b0e3-4d38-d877-aa15508ee109"
      },
      "outputs": [
        {
          "data": {
            "text/plain": [
              "15000.0"
            ]
          },
          "execution_count": 142,
          "metadata": {},
          "output_type": "execute_result"
        }
      ],
      "source": [
        "dados.Renda.quantile(0.99)"
      ]
    },
    {
      "cell_type": "markdown",
      "metadata": {
        "id": "zeRhvtngTg2r"
      },
      "source": [
        "### Obtenha a média, mediana, valor máximo e desvio-padrão da variável RENDA segundo ANOS DE ESTUDO e SEXO\n",
        "#### <font color='blue'>Destaque os pontos mais importante que você observa nas tabulações</font>\n",
        "#### <font color='red'>O parâmento <i>aggfunc</i> da função <i>crosstab()</i> pode receber uma lista de funções. Exemplo: <i>aggfunc = ['mean', 'median', 'max', 'std']</i></font>"
      ]
    },
    {
      "cell_type": "code",
      "execution_count": null,
      "metadata": {
        "id": "8nxGdQIpTg2s",
        "outputId": "dd94b241-e9a3-48a1-d4ae-3e34932bbdab"
      },
      "outputs": [
        {
          "data": {
            "text/html": [
              "<div>\n",
              "<style scoped>\n",
              "    .dataframe tbody tr th:only-of-type {\n",
              "        vertical-align: middle;\n",
              "    }\n",
              "\n",
              "    .dataframe tbody tr th {\n",
              "        vertical-align: top;\n",
              "    }\n",
              "\n",
              "    .dataframe thead tr th {\n",
              "        text-align: left;\n",
              "    }\n",
              "\n",
              "    .dataframe thead tr:last-of-type th {\n",
              "        text-align: right;\n",
              "    }\n",
              "</style>\n",
              "<table border=\"1\" class=\"dataframe\">\n",
              "  <thead>\n",
              "    <tr>\n",
              "      <th></th>\n",
              "      <th colspan=\"2\" halign=\"left\">mean</th>\n",
              "      <th colspan=\"2\" halign=\"left\">median</th>\n",
              "      <th colspan=\"2\" halign=\"left\">max</th>\n",
              "      <th colspan=\"2\" halign=\"left\">std</th>\n",
              "    </tr>\n",
              "    <tr>\n",
              "      <th>Sexo</th>\n",
              "      <th>Feminino</th>\n",
              "      <th>Masculino</th>\n",
              "      <th>Feminino</th>\n",
              "      <th>Masculino</th>\n",
              "      <th>Feminino</th>\n",
              "      <th>Masculino</th>\n",
              "      <th>Feminino</th>\n",
              "      <th>Masculino</th>\n",
              "    </tr>\n",
              "    <tr>\n",
              "      <th>Anos de Estudo</th>\n",
              "      <th></th>\n",
              "      <th></th>\n",
              "      <th></th>\n",
              "      <th></th>\n",
              "      <th></th>\n",
              "      <th></th>\n",
              "      <th></th>\n",
              "      <th></th>\n",
              "    </tr>\n",
              "  </thead>\n",
              "  <tbody>\n",
              "    <tr>\n",
              "      <th>1 ano</th>\n",
              "      <td>492.77</td>\n",
              "      <td>895.63</td>\n",
              "      <td>400.0</td>\n",
              "      <td>788.0</td>\n",
              "      <td>2000</td>\n",
              "      <td>30000</td>\n",
              "      <td>425.29</td>\n",
              "      <td>1331.95</td>\n",
              "    </tr>\n",
              "    <tr>\n",
              "      <th>10 anos</th>\n",
              "      <td>925.92</td>\n",
              "      <td>1731.27</td>\n",
              "      <td>800.0</td>\n",
              "      <td>1218.0</td>\n",
              "      <td>6000</td>\n",
              "      <td>45000</td>\n",
              "      <td>620.61</td>\n",
              "      <td>2078.61</td>\n",
              "    </tr>\n",
              "    <tr>\n",
              "      <th>11 anos</th>\n",
              "      <td>1286.79</td>\n",
              "      <td>2117.06</td>\n",
              "      <td>1000.0</td>\n",
              "      <td>1500.0</td>\n",
              "      <td>100000</td>\n",
              "      <td>200000</td>\n",
              "      <td>1819.04</td>\n",
              "      <td>2676.54</td>\n",
              "    </tr>\n",
              "    <tr>\n",
              "      <th>12 anos</th>\n",
              "      <td>1682.31</td>\n",
              "      <td>2470.33</td>\n",
              "      <td>1200.0</td>\n",
              "      <td>1800.0</td>\n",
              "      <td>120000</td>\n",
              "      <td>30000</td>\n",
              "      <td>4851.83</td>\n",
              "      <td>2268.08</td>\n",
              "    </tr>\n",
              "    <tr>\n",
              "      <th>13 anos</th>\n",
              "      <td>1911.73</td>\n",
              "      <td>3195.10</td>\n",
              "      <td>1300.0</td>\n",
              "      <td>2400.0</td>\n",
              "      <td>20000</td>\n",
              "      <td>25000</td>\n",
              "      <td>2053.79</td>\n",
              "      <td>2797.12</td>\n",
              "    </tr>\n",
              "    <tr>\n",
              "      <th>14 anos</th>\n",
              "      <td>2226.46</td>\n",
              "      <td>3706.62</td>\n",
              "      <td>1600.0</td>\n",
              "      <td>2500.0</td>\n",
              "      <td>20000</td>\n",
              "      <td>50000</td>\n",
              "      <td>2064.08</td>\n",
              "      <td>3987.21</td>\n",
              "    </tr>\n",
              "    <tr>\n",
              "      <th>15 anos ou mais</th>\n",
              "      <td>3899.51</td>\n",
              "      <td>6134.28</td>\n",
              "      <td>2800.0</td>\n",
              "      <td>4000.0</td>\n",
              "      <td>100000</td>\n",
              "      <td>200000</td>\n",
              "      <td>4212.77</td>\n",
              "      <td>7447.61</td>\n",
              "    </tr>\n",
              "    <tr>\n",
              "      <th>2 anos</th>\n",
              "      <td>529.91</td>\n",
              "      <td>931.18</td>\n",
              "      <td>450.0</td>\n",
              "      <td>788.0</td>\n",
              "      <td>4000</td>\n",
              "      <td>40000</td>\n",
              "      <td>498.23</td>\n",
              "      <td>1435.17</td>\n",
              "    </tr>\n",
              "    <tr>\n",
              "      <th>3 anos</th>\n",
              "      <td>546.85</td>\n",
              "      <td>1109.20</td>\n",
              "      <td>500.0</td>\n",
              "      <td>800.0</td>\n",
              "      <td>3500</td>\n",
              "      <td>80000</td>\n",
              "      <td>424.12</td>\n",
              "      <td>2143.80</td>\n",
              "    </tr>\n",
              "    <tr>\n",
              "      <th>4 anos</th>\n",
              "      <td>704.28</td>\n",
              "      <td>1302.33</td>\n",
              "      <td>788.0</td>\n",
              "      <td>1000.0</td>\n",
              "      <td>10000</td>\n",
              "      <td>50000</td>\n",
              "      <td>629.55</td>\n",
              "      <td>1419.82</td>\n",
              "    </tr>\n",
              "    <tr>\n",
              "      <th>5 anos</th>\n",
              "      <td>781.39</td>\n",
              "      <td>1338.65</td>\n",
              "      <td>788.0</td>\n",
              "      <td>1045.0</td>\n",
              "      <td>8000</td>\n",
              "      <td>35000</td>\n",
              "      <td>635.78</td>\n",
              "      <td>1484.65</td>\n",
              "    </tr>\n",
              "    <tr>\n",
              "      <th>6 anos</th>\n",
              "      <td>833.73</td>\n",
              "      <td>1448.88</td>\n",
              "      <td>788.0</td>\n",
              "      <td>1200.0</td>\n",
              "      <td>6000</td>\n",
              "      <td>25000</td>\n",
              "      <td>574.55</td>\n",
              "      <td>1476.63</td>\n",
              "    </tr>\n",
              "    <tr>\n",
              "      <th>7 anos</th>\n",
              "      <td>830.75</td>\n",
              "      <td>1465.50</td>\n",
              "      <td>788.0</td>\n",
              "      <td>1200.0</td>\n",
              "      <td>9000</td>\n",
              "      <td>40000</td>\n",
              "      <td>602.04</td>\n",
              "      <td>1419.71</td>\n",
              "    </tr>\n",
              "    <tr>\n",
              "      <th>8 anos</th>\n",
              "      <td>933.62</td>\n",
              "      <td>1639.40</td>\n",
              "      <td>800.0</td>\n",
              "      <td>1300.0</td>\n",
              "      <td>18000</td>\n",
              "      <td>30000</td>\n",
              "      <td>896.78</td>\n",
              "      <td>1515.58</td>\n",
              "    </tr>\n",
              "    <tr>\n",
              "      <th>9 anos</th>\n",
              "      <td>868.02</td>\n",
              "      <td>1508.04</td>\n",
              "      <td>788.0</td>\n",
              "      <td>1200.0</td>\n",
              "      <td>20000</td>\n",
              "      <td>60000</td>\n",
              "      <td>973.22</td>\n",
              "      <td>2137.66</td>\n",
              "    </tr>\n",
              "    <tr>\n",
              "      <th>Não determinados</th>\n",
              "      <td>798.17</td>\n",
              "      <td>1295.76</td>\n",
              "      <td>788.0</td>\n",
              "      <td>1200.0</td>\n",
              "      <td>3000</td>\n",
              "      <td>7000</td>\n",
              "      <td>459.99</td>\n",
              "      <td>979.65</td>\n",
              "    </tr>\n",
              "    <tr>\n",
              "      <th>Sem instrução e menos de 1 ano</th>\n",
              "      <td>516.20</td>\n",
              "      <td>799.49</td>\n",
              "      <td>390.0</td>\n",
              "      <td>700.0</td>\n",
              "      <td>10000</td>\n",
              "      <td>30000</td>\n",
              "      <td>639.31</td>\n",
              "      <td>1023.90</td>\n",
              "    </tr>\n",
              "  </tbody>\n",
              "</table>\n",
              "</div>"
            ],
            "text/plain": [
              "                                   mean             median                max  \\\n",
              "Sexo                           Feminino Masculino Feminino Masculino Feminino   \n",
              "Anos de Estudo                                                                  \n",
              "1 ano                            492.77    895.63    400.0     788.0     2000   \n",
              "10 anos                          925.92   1731.27    800.0    1218.0     6000   \n",
              "11 anos                         1286.79   2117.06   1000.0    1500.0   100000   \n",
              "12 anos                         1682.31   2470.33   1200.0    1800.0   120000   \n",
              "13 anos                         1911.73   3195.10   1300.0    2400.0    20000   \n",
              "14 anos                         2226.46   3706.62   1600.0    2500.0    20000   \n",
              "15 anos ou mais                 3899.51   6134.28   2800.0    4000.0   100000   \n",
              "2 anos                           529.91    931.18    450.0     788.0     4000   \n",
              "3 anos                           546.85   1109.20    500.0     800.0     3500   \n",
              "4 anos                           704.28   1302.33    788.0    1000.0    10000   \n",
              "5 anos                           781.39   1338.65    788.0    1045.0     8000   \n",
              "6 anos                           833.73   1448.88    788.0    1200.0     6000   \n",
              "7 anos                           830.75   1465.50    788.0    1200.0     9000   \n",
              "8 anos                           933.62   1639.40    800.0    1300.0    18000   \n",
              "9 anos                           868.02   1508.04    788.0    1200.0    20000   \n",
              "Não determinados                 798.17   1295.76    788.0    1200.0     3000   \n",
              "Sem instrução e menos de 1 ano   516.20    799.49    390.0     700.0    10000   \n",
              "\n",
              "                                              std            \n",
              "Sexo                           Masculino Feminino Masculino  \n",
              "Anos de Estudo                                               \n",
              "1 ano                              30000   425.29   1331.95  \n",
              "10 anos                            45000   620.61   2078.61  \n",
              "11 anos                           200000  1819.04   2676.54  \n",
              "12 anos                            30000  4851.83   2268.08  \n",
              "13 anos                            25000  2053.79   2797.12  \n",
              "14 anos                            50000  2064.08   3987.21  \n",
              "15 anos ou mais                   200000  4212.77   7447.61  \n",
              "2 anos                             40000   498.23   1435.17  \n",
              "3 anos                             80000   424.12   2143.80  \n",
              "4 anos                             50000   629.55   1419.82  \n",
              "5 anos                             35000   635.78   1484.65  \n",
              "6 anos                             25000   574.55   1476.63  \n",
              "7 anos                             40000   602.04   1419.71  \n",
              "8 anos                             30000   896.78   1515.58  \n",
              "9 anos                             60000   973.22   2137.66  \n",
              "Não determinados                    7000   459.99    979.65  \n",
              "Sem instrução e menos de 1 ano     30000   639.31   1023.90  "
            ]
          },
          "execution_count": 143,
          "metadata": {},
          "output_type": "execute_result"
        }
      ],
      "source": [
        "df_sexo_estudo = pd.crosstab(dados[\"Anos de Estudo\"] , dados.Sexo , aggfunc=[\"mean\" , \"median\" ,\"max\" , \"std\"] ,values= dados.Renda).round(2)\n",
        "df_sexo_estudo"
      ]
    },
    {
      "cell_type": "markdown",
      "metadata": {
        "id": "1Rm1n7a_Tg2u"
      },
      "source": [
        "### Construa um box plot da variável RENDA segundo ANOS DE ESTUDO e SEXO\n",
        "#### <font color='blue'>É possível verificar algum comportamento diferenciado no rendimento entre os grupos de pessoas analisados? Avalie o gráfico e destaque os pontos mais importantes.</font>\n",
        "#### <font color='red'>1º - Utilize somente as informações de pessoas com renda abaixo de R$ 10.000</font>\n",
        "#### <font color='red'>2º - Utilize a variável IDADE para identificar se a desigualdade se verifica para pessoas de mesma idade. Exemplo: <i>data=dados.query('Renda < 10000 and Idade == 40')</i> ou <i>data=dados.query('Renda < 10000 and Idade == 50')</i></font>\n",
        "#### <font color='red'>3º - Para incluir uma terceira variável na construção de um boxplot utilize o parâmetro <i>hue</i> e indique a variável que quer incluir na subdivisão.</font>\n",
        "#### Mais informações: https://seaborn.pydata.org/generated/seaborn.boxplot.html"
      ]
    },
    {
      "cell_type": "code",
      "execution_count": null,
      "metadata": {
        "id": "3WVMO1FtcBux",
        "outputId": "b69fc186-23ca-42f2-9e86-d1b6754dfdfc"
      },
      "outputs": [
        {
          "data": {
            "text/plain": [
              "Anos de Estudo\n",
              "11 anos                           20848\n",
              "15 anos ou mais                   10795\n",
              "8 anos                             7980\n",
              "4 anos                             6729\n",
              "Sem instrução e menos de 1 ano     5849\n",
              "5 anos                             4499\n",
              "3 anos                             2891\n",
              "7 anos                             2689\n",
              "6 anos                             2445\n",
              "10 anos                            2118\n",
              "2 anos                             2101\n",
              "9 anos                             1840\n",
              "12 anos                            1836\n",
              "14 anos                            1388\n",
              "1 ano                              1388\n",
              "13 anos                            1253\n",
              "Não determinados                    191\n",
              "Name: count, dtype: int64"
            ]
          },
          "execution_count": 144,
          "metadata": {},
          "output_type": "execute_result"
        }
      ],
      "source": [
        "dados[\"Anos de Estudo\"].value_counts()"
      ]
    },
    {
      "cell_type": "code",
      "execution_count": null,
      "metadata": {
        "id": "rgMU0WyJTg2v",
        "outputId": "85c13214-fc6e-4d9a-d8ee-e821aa357406"
      },
      "outputs": [
        {
          "data": {
            "image/png": "[encoded data removed]",
            "text/plain": [
              "<Figure size 1400x800 with 1 Axes>"
            ]
          },
          "metadata": {},
          "output_type": "display_data"
        }
      ],
      "source": [
        "ax = sns.boxplot(x = 'Renda', y = 'Anos de Estudo', hue = 'Sexo', data=dados.query('Renda < 10000 and Idade == 50'), orient='h')\n",
        "ax.figure.set_size_inches(14,8)\n",
        "\n"
      ]
    },
    {
      "cell_type": "markdown",
      "metadata": {
        "id": "LrEECOmNTg2w"
      },
      "source": [
        "> ### Conclusões\n",
        "\n",
        "No geral, vemos que independente do ano des estudo e a Idade, os Homens possuem uma distribuicao maior da renda em comparacao as mulheres\n",
        "\n",
        "\n",
        "- Media Idade = 44\n",
        "    - 'Nao Determinado' - a distribuicao e tao minima que mal aparece\n",
        "    - A media max para as Mulheres esta em torno dos R$ 3022      \n",
        "    - A media max para os Homens esta em torno dos R$3632\n",
        "        \n",
        "- Moda Idade = 40\n",
        "    - Aqui vemos uma distribuicao maior em comparacao a Idade Media para os Homens, ja para as Mulheres ocorreu uma diminuicao do IIQ (Retrocedeu para menos de R$2000)\n",
        "    - A media max para as Mulheres esta em torno dos R$ 2735 - Variacao Percentual -> -9%              \n",
        "    -A media max para os Homens esta em torno dos R$ 4065 - Variacao Percentual -> 11.92%"
      ]
    },
    {
      "cell_type": "markdown",
      "metadata": {
        "id": "0fIFSxj8Tg2x"
      },
      "source": [
        "### Obtenha a média, mediana, valor máximo e desvio-padrão da variável RENDA segundo as UNIDADES DA FEDERAÇÃO\n",
        "#### <font color='blue'>Destaque os pontos mais importante que você observa nas tabulações</font>\n",
        "#### <font color='red'>Utilize o método <i>groupby()</i> do <i>pandas</i> juntamente com o método <i>agg()</i> para contruir a tabulação. O método <i>agg()</i> pode receber um dicionário especificando qual coluna do DataFrame deve ser utilizada e qual lista de funções estatísticas queremos obter, por exemplo: <i>dados.groupby(['UF']).agg({'Renda': ['mean', 'median', 'max', 'std']})</i></font>"
      ]
    },
    {
      "cell_type": "code",
      "execution_count": null,
      "metadata": {
        "id": "91IxQFJoTg2x",
        "outputId": "ac20afba-57ce-46e2-9208-974fa0d63cb9"
      },
      "outputs": [
        {
          "data": {
            "text/html": [
              "<div>\n",
              "<style scoped>\n",
              "    .dataframe tbody tr th:only-of-type {\n",
              "        vertical-align: middle;\n",
              "    }\n",
              "\n",
              "    .dataframe tbody tr th {\n",
              "        vertical-align: top;\n",
              "    }\n",
              "\n",
              "    .dataframe thead th {\n",
              "        text-align: right;\n",
              "    }\n",
              "</style>\n",
              "<table border=\"1\" class=\"dataframe\">\n",
              "  <thead>\n",
              "    <tr style=\"text-align: right;\">\n",
              "      <th></th>\n",
              "      <th>mean</th>\n",
              "      <th>median</th>\n",
              "      <th>max</th>\n",
              "      <th>std</th>\n",
              "    </tr>\n",
              "    <tr>\n",
              "      <th>UF</th>\n",
              "      <th></th>\n",
              "      <th></th>\n",
              "      <th></th>\n",
              "      <th></th>\n",
              "    </tr>\n",
              "  </thead>\n",
              "  <tbody>\n",
              "    <tr>\n",
              "      <th>Acre</th>\n",
              "      <td>1334.760776</td>\n",
              "      <td>890.0</td>\n",
              "      <td>9000</td>\n",
              "      <td>1333.508666</td>\n",
              "    </tr>\n",
              "    <tr>\n",
              "      <th>Alagoas</th>\n",
              "      <td>1113.923333</td>\n",
              "      <td>788.0</td>\n",
              "      <td>9000</td>\n",
              "      <td>1119.804362</td>\n",
              "    </tr>\n",
              "    <tr>\n",
              "      <th>Amapá</th>\n",
              "      <td>1669.787276</td>\n",
              "      <td>1200.0</td>\n",
              "      <td>8500</td>\n",
              "      <td>1408.004816</td>\n",
              "    </tr>\n",
              "    <tr>\n",
              "      <th>Amazonas</th>\n",
              "      <td>1332.383066</td>\n",
              "      <td>900.0</td>\n",
              "      <td>9000</td>\n",
              "      <td>1296.287205</td>\n",
              "    </tr>\n",
              "    <tr>\n",
              "      <th>Bahia</th>\n",
              "      <td>1200.026050</td>\n",
              "      <td>800.0</td>\n",
              "      <td>9200</td>\n",
              "      <td>1224.696387</td>\n",
              "    </tr>\n",
              "    <tr>\n",
              "      <th>Ceará</th>\n",
              "      <td>1132.800781</td>\n",
              "      <td>788.0</td>\n",
              "      <td>9500</td>\n",
              "      <td>1232.638420</td>\n",
              "    </tr>\n",
              "    <tr>\n",
              "      <th>Distrito Federal</th>\n",
              "      <td>2684.910744</td>\n",
              "      <td>1800.0</td>\n",
              "      <td>9900</td>\n",
              "      <td>2210.633909</td>\n",
              "    </tr>\n",
              "    <tr>\n",
              "      <th>Espírito Santo</th>\n",
              "      <td>1672.142566</td>\n",
              "      <td>1200.0</td>\n",
              "      <td>9000</td>\n",
              "      <td>1373.623133</td>\n",
              "    </tr>\n",
              "    <tr>\n",
              "      <th>Goiás</th>\n",
              "      <td>1786.121602</td>\n",
              "      <td>1426.0</td>\n",
              "      <td>9000</td>\n",
              "      <td>1376.136695</td>\n",
              "    </tr>\n",
              "    <tr>\n",
              "      <th>Maranhão</th>\n",
              "      <td>874.131222</td>\n",
              "      <td>632.5</td>\n",
              "      <td>9600</td>\n",
              "      <td>1143.513035</td>\n",
              "    </tr>\n",
              "    <tr>\n",
              "      <th>Mato Grosso</th>\n",
              "      <td>1851.803977</td>\n",
              "      <td>1500.0</td>\n",
              "      <td>9500</td>\n",
              "      <td>1454.355923</td>\n",
              "    </tr>\n",
              "    <tr>\n",
              "      <th>Mato Grosso do Sul</th>\n",
              "      <td>1879.564907</td>\n",
              "      <td>1400.0</td>\n",
              "      <td>9600</td>\n",
              "      <td>1580.498012</td>\n",
              "    </tr>\n",
              "    <tr>\n",
              "      <th>Minas Gerais</th>\n",
              "      <td>1641.735983</td>\n",
              "      <td>1200.0</td>\n",
              "      <td>9800</td>\n",
              "      <td>1500.964738</td>\n",
              "    </tr>\n",
              "    <tr>\n",
              "      <th>Paraná</th>\n",
              "      <td>1975.489281</td>\n",
              "      <td>1500.0</td>\n",
              "      <td>9100</td>\n",
              "      <td>1532.996788</td>\n",
              "    </tr>\n",
              "    <tr>\n",
              "      <th>Paraíba</th>\n",
              "      <td>1139.024662</td>\n",
              "      <td>788.0</td>\n",
              "      <td>9500</td>\n",
              "      <td>1306.466161</td>\n",
              "    </tr>\n",
              "    <tr>\n",
              "      <th>Pará</th>\n",
              "      <td>1237.548681</td>\n",
              "      <td>850.0</td>\n",
              "      <td>9500</td>\n",
              "      <td>1197.306734</td>\n",
              "    </tr>\n",
              "    <tr>\n",
              "      <th>Pernambuco</th>\n",
              "      <td>1309.506117</td>\n",
              "      <td>890.0</td>\n",
              "      <td>9800</td>\n",
              "      <td>1348.605123</td>\n",
              "    </tr>\n",
              "    <tr>\n",
              "      <th>Piauí</th>\n",
              "      <td>884.613011</td>\n",
              "      <td>700.0</td>\n",
              "      <td>8773</td>\n",
              "      <td>1107.607252</td>\n",
              "    </tr>\n",
              "    <tr>\n",
              "      <th>Rio Grande do Norte</th>\n",
              "      <td>1247.836100</td>\n",
              "      <td>800.0</td>\n",
              "      <td>9000</td>\n",
              "      <td>1301.898681</td>\n",
              "    </tr>\n",
              "    <tr>\n",
              "      <th>Rio Grande do Sul</th>\n",
              "      <td>1882.825147</td>\n",
              "      <td>1500.0</td>\n",
              "      <td>9975</td>\n",
              "      <td>1554.629250</td>\n",
              "    </tr>\n",
              "    <tr>\n",
              "      <th>Rio de Janeiro</th>\n",
              "      <td>1866.010638</td>\n",
              "      <td>1400.0</td>\n",
              "      <td>9600</td>\n",
              "      <td>1532.913866</td>\n",
              "    </tr>\n",
              "    <tr>\n",
              "      <th>Rondônia</th>\n",
              "      <td>1632.475658</td>\n",
              "      <td>1200.0</td>\n",
              "      <td>9800</td>\n",
              "      <td>1405.391796</td>\n",
              "    </tr>\n",
              "    <tr>\n",
              "      <th>Roraima</th>\n",
              "      <td>1650.071161</td>\n",
              "      <td>1000.0</td>\n",
              "      <td>8000</td>\n",
              "      <td>1610.861018</td>\n",
              "    </tr>\n",
              "    <tr>\n",
              "      <th>Santa Catarina</th>\n",
              "      <td>2123.824458</td>\n",
              "      <td>1700.0</td>\n",
              "      <td>9200</td>\n",
              "      <td>1497.051998</td>\n",
              "    </tr>\n",
              "    <tr>\n",
              "      <th>Sergipe</th>\n",
              "      <td>1007.281005</td>\n",
              "      <td>788.0</td>\n",
              "      <td>8000</td>\n",
              "      <td>1069.532003</td>\n",
              "    </tr>\n",
              "    <tr>\n",
              "      <th>São Paulo</th>\n",
              "      <td>2065.859119</td>\n",
              "      <td>1500.0</td>\n",
              "      <td>9800</td>\n",
              "      <td>1577.145905</td>\n",
              "    </tr>\n",
              "    <tr>\n",
              "      <th>Tocantins</th>\n",
              "      <td>1494.193297</td>\n",
              "      <td>1000.0</td>\n",
              "      <td>9580</td>\n",
              "      <td>1481.191672</td>\n",
              "    </tr>\n",
              "  </tbody>\n",
              "</table>\n",
              "</div>"
            ],
            "text/plain": [
              "                            mean  median   max          std\n",
              "UF                                                         \n",
              "Acre                 1334.760776   890.0  9000  1333.508666\n",
              "Alagoas              1113.923333   788.0  9000  1119.804362\n",
              "Amapá                1669.787276  1200.0  8500  1408.004816\n",
              "Amazonas             1332.383066   900.0  9000  1296.287205\n",
              "Bahia                1200.026050   800.0  9200  1224.696387\n",
              "Ceará                1132.800781   788.0  9500  1232.638420\n",
              "Distrito Federal     2684.910744  1800.0  9900  2210.633909\n",
              "Espírito Santo       1672.142566  1200.0  9000  1373.623133\n",
              "Goiás                1786.121602  1426.0  9000  1376.136695\n",
              "Maranhão              874.131222   632.5  9600  1143.513035\n",
              "Mato Grosso          1851.803977  1500.0  9500  1454.355923\n",
              "Mato Grosso do Sul   1879.564907  1400.0  9600  1580.498012\n",
              "Minas Gerais         1641.735983  1200.0  9800  1500.964738\n",
              "Paraná               1975.489281  1500.0  9100  1532.996788\n",
              "Paraíba              1139.024662   788.0  9500  1306.466161\n",
              "Pará                 1237.548681   850.0  9500  1197.306734\n",
              "Pernambuco           1309.506117   890.0  9800  1348.605123\n",
              "Piauí                 884.613011   700.0  8773  1107.607252\n",
              "Rio Grande do Norte  1247.836100   800.0  9000  1301.898681\n",
              "Rio Grande do Sul    1882.825147  1500.0  9975  1554.629250\n",
              "Rio de Janeiro       1866.010638  1400.0  9600  1532.913866\n",
              "Rondônia             1632.475658  1200.0  9800  1405.391796\n",
              "Roraima              1650.071161  1000.0  8000  1610.861018\n",
              "Santa Catarina       2123.824458  1700.0  9200  1497.051998\n",
              "Sergipe              1007.281005   788.0  8000  1069.532003\n",
              "São Paulo            2065.859119  1500.0  9800  1577.145905\n",
              "Tocantins            1494.193297  1000.0  9580  1481.191672"
            ]
          },
          "execution_count": 146,
          "metadata": {},
          "output_type": "execute_result"
        }
      ],
      "source": [
        "dados.query(\"Renda <10000\").groupby(\"UF\").Renda.agg([\"mean\" , \"median\" , \"max\" , \"std\"])"
      ]
    },
    {
      "cell_type": "markdown",
      "metadata": {
        "id": "6NfAKimkTg2y"
      },
      "source": [
        "### Construa um box plot da variável RENDA segundo as UNIDADES DA FEDERAÇÃO\n",
        "#### <font color='blue'>É possível verificar algum comportamento diferenciado no rendimento entre os grupos analisados? Avalie o gráfico e destaque os pontos mais importantes.</font>\n",
        "#### <font color='red'>1º - Utilize somente as informações de pessoas com renda abaixo de R$ 10.000</font>"
      ]
    },
    {
      "cell_type": "code",
      "execution_count": null,
      "metadata": {
        "id": "XdEGG3blTg2z",
        "outputId": "0c08d1d8-bcd1-447d-b88d-85c1452f30c8"
      },
      "outputs": [
        {
          "data": {
            "image/png": "[encoded data removed]",
            "text/plain": [
              "<Figure size 1400x800 with 1 Axes>"
            ]
          },
          "metadata": {},
          "output_type": "display_data"
        }
      ],
      "source": [
        "ax = sns.boxplot(x = \"Renda\" , y =\"UF\",data = dados.query(\"Renda < 10000\"), orient= \"h\")\n",
        "ax.figure.set_size_inches(14,8)"
      ]
    },
    {
      "cell_type": "markdown",
      "metadata": {
        "id": "7ssOt3MRTg22"
      },
      "source": [
        "> ### Conclusões\n",
        "\n",
        "Aqui vemos que ->\n",
        " - O Desvio Padrao esta muito elevado no Destrito Federal;\n",
        "\n",
        " -  De todos os Estados, 50% ganham ate R$95000 pelo vlr Max\n",
        "\n",
        "\n",
        "\n",
        "   \n",
        "\n"
      ]
    },
    {
      "cell_type": "markdown",
      "metadata": {
        "id": "eMVSutT7cBu0"
      },
      "source": [
        "## Estudando Renda entre 55000 e 200000"
      ]
    },
    {
      "cell_type": "code",
      "execution_count": null,
      "metadata": {
        "id": "AZaEoIRVcBu0"
      },
      "outputs": [],
      "source": [
        "df_renda = dados.query(\"Renda >= 55000 and Renda <= 2000000\")"
      ]
    },
    {
      "cell_type": "code",
      "execution_count": null,
      "metadata": {
        "id": "U-mr-vTmcBu0",
        "outputId": "caa89144-d5ff-43b9-a8ab-7b3fa5cba6b1"
      },
      "outputs": [
        {
          "data": {
            "text/html": [
              "<div>\n",
              "<style scoped>\n",
              "    .dataframe tbody tr th:only-of-type {\n",
              "        vertical-align: middle;\n",
              "    }\n",
              "\n",
              "    .dataframe tbody tr th {\n",
              "        vertical-align: top;\n",
              "    }\n",
              "\n",
              "    .dataframe thead th {\n",
              "        text-align: right;\n",
              "    }\n",
              "</style>\n",
              "<table border=\"1\" class=\"dataframe\">\n",
              "  <thead>\n",
              "    <tr style=\"text-align: right;\">\n",
              "      <th></th>\n",
              "      <th>UF</th>\n",
              "      <th>Sexo</th>\n",
              "      <th>Idade</th>\n",
              "      <th>Cor</th>\n",
              "      <th>Anos de Estudo</th>\n",
              "      <th>Renda</th>\n",
              "      <th>Altura</th>\n",
              "    </tr>\n",
              "  </thead>\n",
              "  <tbody>\n",
              "    <tr>\n",
              "      <th>11454</th>\n",
              "      <td>Tocantins</td>\n",
              "      <td>Masculino</td>\n",
              "      <td>51</td>\n",
              "      <td>Parda</td>\n",
              "      <td>15 anos ou mais</td>\n",
              "      <td>60000</td>\n",
              "      <td>1.765643</td>\n",
              "    </tr>\n",
              "    <tr>\n",
              "      <th>28110</th>\n",
              "      <td>Bahia</td>\n",
              "      <td>Masculino</td>\n",
              "      <td>51</td>\n",
              "      <td>Branca</td>\n",
              "      <td>11 anos</td>\n",
              "      <td>200000</td>\n",
              "      <td>1.587794</td>\n",
              "    </tr>\n",
              "    <tr>\n",
              "      <th>32379</th>\n",
              "      <td>Minas Gerais</td>\n",
              "      <td>Masculino</td>\n",
              "      <td>46</td>\n",
              "      <td>Parda</td>\n",
              "      <td>15 anos ou mais</td>\n",
              "      <td>100000</td>\n",
              "      <td>1.724601</td>\n",
              "    </tr>\n",
              "    <tr>\n",
              "      <th>37497</th>\n",
              "      <td>Minas Gerais</td>\n",
              "      <td>Masculino</td>\n",
              "      <td>72</td>\n",
              "      <td>Branca</td>\n",
              "      <td>15 anos ou mais</td>\n",
              "      <td>100000</td>\n",
              "      <td>1.641713</td>\n",
              "    </tr>\n",
              "    <tr>\n",
              "      <th>37612</th>\n",
              "      <td>Minas Gerais</td>\n",
              "      <td>Masculino</td>\n",
              "      <td>61</td>\n",
              "      <td>Branca</td>\n",
              "      <td>15 anos ou mais</td>\n",
              "      <td>100000</td>\n",
              "      <td>1.580114</td>\n",
              "    </tr>\n",
              "    <tr>\n",
              "      <th>38680</th>\n",
              "      <td>Minas Gerais</td>\n",
              "      <td>Masculino</td>\n",
              "      <td>79</td>\n",
              "      <td>Branca</td>\n",
              "      <td>9 anos</td>\n",
              "      <td>60000</td>\n",
              "      <td>1.644753</td>\n",
              "    </tr>\n",
              "    <tr>\n",
              "      <th>39231</th>\n",
              "      <td>Minas Gerais</td>\n",
              "      <td>Masculino</td>\n",
              "      <td>40</td>\n",
              "      <td>Branca</td>\n",
              "      <td>15 anos ou mais</td>\n",
              "      <td>57000</td>\n",
              "      <td>1.742436</td>\n",
              "    </tr>\n",
              "    <tr>\n",
              "      <th>40934</th>\n",
              "      <td>Espírito Santo</td>\n",
              "      <td>Feminino</td>\n",
              "      <td>71</td>\n",
              "      <td>Branca</td>\n",
              "      <td>15 anos ou mais</td>\n",
              "      <td>100000</td>\n",
              "      <td>1.793337</td>\n",
              "    </tr>\n",
              "    <tr>\n",
              "      <th>41202</th>\n",
              "      <td>Rio de Janeiro</td>\n",
              "      <td>Masculino</td>\n",
              "      <td>58</td>\n",
              "      <td>Parda</td>\n",
              "      <td>15 anos ou mais</td>\n",
              "      <td>90000</td>\n",
              "      <td>1.717068</td>\n",
              "    </tr>\n",
              "    <tr>\n",
              "      <th>43679</th>\n",
              "      <td>Rio de Janeiro</td>\n",
              "      <td>Feminino</td>\n",
              "      <td>65</td>\n",
              "      <td>Branca</td>\n",
              "      <td>11 anos</td>\n",
              "      <td>100000</td>\n",
              "      <td>1.773411</td>\n",
              "    </tr>\n",
              "    <tr>\n",
              "      <th>43681</th>\n",
              "      <td>Rio de Janeiro</td>\n",
              "      <td>Masculino</td>\n",
              "      <td>75</td>\n",
              "      <td>Branca</td>\n",
              "      <td>15 anos ou mais</td>\n",
              "      <td>80000</td>\n",
              "      <td>1.705355</td>\n",
              "    </tr>\n",
              "    <tr>\n",
              "      <th>43693</th>\n",
              "      <td>Rio de Janeiro</td>\n",
              "      <td>Masculino</td>\n",
              "      <td>79</td>\n",
              "      <td>Branca</td>\n",
              "      <td>15 anos ou mais</td>\n",
              "      <td>200000</td>\n",
              "      <td>1.681105</td>\n",
              "    </tr>\n",
              "    <tr>\n",
              "      <th>43694</th>\n",
              "      <td>Rio de Janeiro</td>\n",
              "      <td>Feminino</td>\n",
              "      <td>53</td>\n",
              "      <td>Indígena</td>\n",
              "      <td>12 anos</td>\n",
              "      <td>120000</td>\n",
              "      <td>1.661979</td>\n",
              "    </tr>\n",
              "    <tr>\n",
              "      <th>43705</th>\n",
              "      <td>Rio de Janeiro</td>\n",
              "      <td>Feminino</td>\n",
              "      <td>40</td>\n",
              "      <td>Branca</td>\n",
              "      <td>15 anos ou mais</td>\n",
              "      <td>60000</td>\n",
              "      <td>1.752243</td>\n",
              "    </tr>\n",
              "    <tr>\n",
              "      <th>45219</th>\n",
              "      <td>Rio de Janeiro</td>\n",
              "      <td>Masculino</td>\n",
              "      <td>39</td>\n",
              "      <td>Branca</td>\n",
              "      <td>15 anos ou mais</td>\n",
              "      <td>60000</td>\n",
              "      <td>1.734078</td>\n",
              "    </tr>\n",
              "    <tr>\n",
              "      <th>45245</th>\n",
              "      <td>Rio de Janeiro</td>\n",
              "      <td>Masculino</td>\n",
              "      <td>74</td>\n",
              "      <td>Branca</td>\n",
              "      <td>15 anos ou mais</td>\n",
              "      <td>80000</td>\n",
              "      <td>1.834021</td>\n",
              "    </tr>\n",
              "    <tr>\n",
              "      <th>51264</th>\n",
              "      <td>São Paulo</td>\n",
              "      <td>Masculino</td>\n",
              "      <td>53</td>\n",
              "      <td>Branca</td>\n",
              "      <td>15 anos ou mais</td>\n",
              "      <td>58000</td>\n",
              "      <td>1.579180</td>\n",
              "    </tr>\n",
              "    <tr>\n",
              "      <th>51341</th>\n",
              "      <td>São Paulo</td>\n",
              "      <td>Masculino</td>\n",
              "      <td>58</td>\n",
              "      <td>Branca</td>\n",
              "      <td>15 anos ou mais</td>\n",
              "      <td>60000</td>\n",
              "      <td>1.576785</td>\n",
              "    </tr>\n",
              "    <tr>\n",
              "      <th>53501</th>\n",
              "      <td>São Paulo</td>\n",
              "      <td>Masculino</td>\n",
              "      <td>43</td>\n",
              "      <td>Branca</td>\n",
              "      <td>15 anos ou mais</td>\n",
              "      <td>80000</td>\n",
              "      <td>1.734311</td>\n",
              "    </tr>\n",
              "    <tr>\n",
              "      <th>56141</th>\n",
              "      <td>Paraná</td>\n",
              "      <td>Masculino</td>\n",
              "      <td>42</td>\n",
              "      <td>Branca</td>\n",
              "      <td>15 anos ou mais</td>\n",
              "      <td>200000</td>\n",
              "      <td>1.580848</td>\n",
              "    </tr>\n",
              "    <tr>\n",
              "      <th>61194</th>\n",
              "      <td>Santa Catarina</td>\n",
              "      <td>Masculino</td>\n",
              "      <td>39</td>\n",
              "      <td>Branca</td>\n",
              "      <td>3 anos</td>\n",
              "      <td>80000</td>\n",
              "      <td>1.626225</td>\n",
              "    </tr>\n",
              "    <tr>\n",
              "      <th>74867</th>\n",
              "      <td>Distrito Federal</td>\n",
              "      <td>Masculino</td>\n",
              "      <td>72</td>\n",
              "      <td>Branca</td>\n",
              "      <td>15 anos ou mais</td>\n",
              "      <td>100000</td>\n",
              "      <td>1.775540</td>\n",
              "    </tr>\n",
              "  </tbody>\n",
              "</table>\n",
              "</div>"
            ],
            "text/plain": [
              "                     UF       Sexo  Idade       Cor   Anos de Estudo   Renda  \\\n",
              "11454         Tocantins  Masculino     51     Parda  15 anos ou mais   60000   \n",
              "28110             Bahia  Masculino     51    Branca          11 anos  200000   \n",
              "32379      Minas Gerais  Masculino     46     Parda  15 anos ou mais  100000   \n",
              "37497      Minas Gerais  Masculino     72    Branca  15 anos ou mais  100000   \n",
              "37612      Minas Gerais  Masculino     61    Branca  15 anos ou mais  100000   \n",
              "38680      Minas Gerais  Masculino     79    Branca           9 anos   60000   \n",
              "39231      Minas Gerais  Masculino     40    Branca  15 anos ou mais   57000   \n",
              "40934    Espírito Santo   Feminino     71    Branca  15 anos ou mais  100000   \n",
              "41202    Rio de Janeiro  Masculino     58     Parda  15 anos ou mais   90000   \n",
              "43679    Rio de Janeiro   Feminino     65    Branca          11 anos  100000   \n",
              "43681    Rio de Janeiro  Masculino     75    Branca  15 anos ou mais   80000   \n",
              "43693    Rio de Janeiro  Masculino     79    Branca  15 anos ou mais  200000   \n",
              "43694    Rio de Janeiro   Feminino     53  Indígena          12 anos  120000   \n",
              "43705    Rio de Janeiro   Feminino     40    Branca  15 anos ou mais   60000   \n",
              "45219    Rio de Janeiro  Masculino     39    Branca  15 anos ou mais   60000   \n",
              "45245    Rio de Janeiro  Masculino     74    Branca  15 anos ou mais   80000   \n",
              "51264         São Paulo  Masculino     53    Branca  15 anos ou mais   58000   \n",
              "51341         São Paulo  Masculino     58    Branca  15 anos ou mais   60000   \n",
              "53501         São Paulo  Masculino     43    Branca  15 anos ou mais   80000   \n",
              "56141            Paraná  Masculino     42    Branca  15 anos ou mais  200000   \n",
              "61194    Santa Catarina  Masculino     39    Branca           3 anos   80000   \n",
              "74867  Distrito Federal  Masculino     72    Branca  15 anos ou mais  100000   \n",
              "\n",
              "         Altura  \n",
              "11454  1.765643  \n",
              "28110  1.587794  \n",
              "32379  1.724601  \n",
              "37497  1.641713  \n",
              "37612  1.580114  \n",
              "38680  1.644753  \n",
              "39231  1.742436  \n",
              "40934  1.793337  \n",
              "41202  1.717068  \n",
              "43679  1.773411  \n",
              "43681  1.705355  \n",
              "43693  1.681105  \n",
              "43694  1.661979  \n",
              "43705  1.752243  \n",
              "45219  1.734078  \n",
              "45245  1.834021  \n",
              "51264  1.579180  \n",
              "51341  1.576785  \n",
              "53501  1.734311  \n",
              "56141  1.580848  \n",
              "61194  1.626225  \n",
              "74867  1.775540  "
            ]
          },
          "execution_count": 149,
          "metadata": {},
          "output_type": "execute_result"
        }
      ],
      "source": [
        "df_renda"
      ]
    },
    {
      "cell_type": "markdown",
      "metadata": {
        "id": "AzawWw0CcBu1"
      },
      "source": [
        "### Idade do DataSet"
      ]
    },
    {
      "cell_type": "markdown",
      "metadata": {
        "id": "SWj4HwwbcBu1"
      },
      "source": [
        "#### Tendencia Central Idade"
      ]
    },
    {
      "cell_type": "code",
      "execution_count": null,
      "metadata": {
        "id": "9Wu2vRC6cBu1",
        "outputId": "eb8b203b-025d-4aa2-f712-994b3706d1fd"
      },
      "outputs": [
        {
          "data": {
            "text/plain": [
              "57.31818181818182"
            ]
          },
          "execution_count": 150,
          "metadata": {},
          "output_type": "execute_result"
        }
      ],
      "source": [
        "df_renda.Idade.mean() # Idade Media"
      ]
    },
    {
      "cell_type": "code",
      "execution_count": null,
      "metadata": {
        "id": "VrkUiV_ncBu1",
        "outputId": "5eb6dde1-7b77-487d-dfab-ff5b89838b20"
      },
      "outputs": [
        {
          "data": {
            "text/plain": [
              "55.5"
            ]
          },
          "execution_count": 151,
          "metadata": {},
          "output_type": "execute_result"
        }
      ],
      "source": [
        "df_renda.Idade.median() # Mediana da Idade"
      ]
    },
    {
      "cell_type": "code",
      "execution_count": null,
      "metadata": {
        "id": "0kx5z9d_cBu1",
        "outputId": "33f74b99-0dc1-4a03-8ea2-fe53031d7fc1"
      },
      "outputs": [
        {
          "data": {
            "text/plain": [
              "0    39\n",
              "1    40\n",
              "2    51\n",
              "3    53\n",
              "4    58\n",
              "5    72\n",
              "6    79\n",
              "Name: Idade, dtype: int64"
            ]
          },
          "execution_count": 152,
          "metadata": {},
          "output_type": "execute_result"
        }
      ],
      "source": [
        "df_renda.Idade.mode()# Moda da Idade"
      ]
    },
    {
      "cell_type": "markdown",
      "metadata": {
        "id": "LegAGPNdcBu1"
      },
      "source": [
        "#### Frequencia Idade"
      ]
    },
    {
      "cell_type": "code",
      "execution_count": null,
      "metadata": {
        "id": "ckjn--EOcBu1",
        "outputId": "023c3abb-0619-411b-93c5-6295e148a577"
      },
      "outputs": [
        {
          "data": {
            "text/html": [
              "<div>\n",
              "<style scoped>\n",
              "    .dataframe tbody tr th:only-of-type {\n",
              "        vertical-align: middle;\n",
              "    }\n",
              "\n",
              "    .dataframe tbody tr th {\n",
              "        vertical-align: top;\n",
              "    }\n",
              "\n",
              "    .dataframe thead th {\n",
              "        text-align: right;\n",
              "    }\n",
              "</style>\n",
              "<table border=\"1\" class=\"dataframe\">\n",
              "  <thead>\n",
              "    <tr style=\"text-align: right;\">\n",
              "      <th></th>\n",
              "      <th>Frequencia</th>\n",
              "      <th>Percentual(%)</th>\n",
              "    </tr>\n",
              "    <tr>\n",
              "      <th>Idade</th>\n",
              "      <th></th>\n",
              "      <th></th>\n",
              "    </tr>\n",
              "  </thead>\n",
              "  <tbody>\n",
              "    <tr>\n",
              "      <th>39</th>\n",
              "      <td>2</td>\n",
              "      <td>9.090909</td>\n",
              "    </tr>\n",
              "    <tr>\n",
              "      <th>40</th>\n",
              "      <td>2</td>\n",
              "      <td>9.090909</td>\n",
              "    </tr>\n",
              "    <tr>\n",
              "      <th>42</th>\n",
              "      <td>1</td>\n",
              "      <td>4.545455</td>\n",
              "    </tr>\n",
              "    <tr>\n",
              "      <th>43</th>\n",
              "      <td>1</td>\n",
              "      <td>4.545455</td>\n",
              "    </tr>\n",
              "    <tr>\n",
              "      <th>46</th>\n",
              "      <td>1</td>\n",
              "      <td>4.545455</td>\n",
              "    </tr>\n",
              "    <tr>\n",
              "      <th>51</th>\n",
              "      <td>2</td>\n",
              "      <td>9.090909</td>\n",
              "    </tr>\n",
              "    <tr>\n",
              "      <th>53</th>\n",
              "      <td>2</td>\n",
              "      <td>9.090909</td>\n",
              "    </tr>\n",
              "    <tr>\n",
              "      <th>58</th>\n",
              "      <td>2</td>\n",
              "      <td>9.090909</td>\n",
              "    </tr>\n",
              "    <tr>\n",
              "      <th>61</th>\n",
              "      <td>1</td>\n",
              "      <td>4.545455</td>\n",
              "    </tr>\n",
              "    <tr>\n",
              "      <th>65</th>\n",
              "      <td>1</td>\n",
              "      <td>4.545455</td>\n",
              "    </tr>\n",
              "    <tr>\n",
              "      <th>71</th>\n",
              "      <td>1</td>\n",
              "      <td>4.545455</td>\n",
              "    </tr>\n",
              "    <tr>\n",
              "      <th>72</th>\n",
              "      <td>2</td>\n",
              "      <td>9.090909</td>\n",
              "    </tr>\n",
              "    <tr>\n",
              "      <th>74</th>\n",
              "      <td>1</td>\n",
              "      <td>4.545455</td>\n",
              "    </tr>\n",
              "    <tr>\n",
              "      <th>75</th>\n",
              "      <td>1</td>\n",
              "      <td>4.545455</td>\n",
              "    </tr>\n",
              "    <tr>\n",
              "      <th>79</th>\n",
              "      <td>2</td>\n",
              "      <td>9.090909</td>\n",
              "    </tr>\n",
              "  </tbody>\n",
              "</table>\n",
              "</div>"
            ],
            "text/plain": [
              "       Frequencia  Percentual(%)\n",
              "Idade                           \n",
              "39              2       9.090909\n",
              "40              2       9.090909\n",
              "42              1       4.545455\n",
              "43              1       4.545455\n",
              "46              1       4.545455\n",
              "51              2       9.090909\n",
              "53              2       9.090909\n",
              "58              2       9.090909\n",
              "61              1       4.545455\n",
              "65              1       4.545455\n",
              "71              1       4.545455\n",
              "72              2       9.090909\n",
              "74              1       4.545455\n",
              "75              1       4.545455\n",
              "79              2       9.090909"
            ]
          },
          "execution_count": 153,
          "metadata": {},
          "output_type": "execute_result"
        }
      ],
      "source": [
        "percent_Idade = df_renda.Idade.value_counts(normalize=True) * 100\n",
        "freq_Idade = df_renda.Idade.value_counts()\n",
        "\n",
        "df_sexo_rendas = pd.DataFrame({\"Frequencia\" : freq_Idade, \"Percentual(%)\": percent_Idade}).sort_index()\n",
        "df_sexo_rendas"
      ]
    },
    {
      "cell_type": "markdown",
      "metadata": {
        "id": "mHwCn46LcBu2"
      },
      "source": [
        "### Estados do Dataset"
      ]
    },
    {
      "cell_type": "code",
      "execution_count": null,
      "metadata": {
        "id": "YhQVFUyMcBu2",
        "outputId": "553661eb-d46c-4597-aac7-951f0ed92420"
      },
      "outputs": [
        {
          "data": {
            "text/html": [
              "<div>\n",
              "<style scoped>\n",
              "    .dataframe tbody tr th:only-of-type {\n",
              "        vertical-align: middle;\n",
              "    }\n",
              "\n",
              "    .dataframe tbody tr th {\n",
              "        vertical-align: top;\n",
              "    }\n",
              "\n",
              "    .dataframe thead th {\n",
              "        text-align: right;\n",
              "    }\n",
              "</style>\n",
              "<table border=\"1\" class=\"dataframe\">\n",
              "  <thead>\n",
              "    <tr style=\"text-align: right;\">\n",
              "      <th></th>\n",
              "      <th>Frequencia</th>\n",
              "      <th>Percentual(%)</th>\n",
              "    </tr>\n",
              "    <tr>\n",
              "      <th>UF</th>\n",
              "      <th></th>\n",
              "      <th></th>\n",
              "    </tr>\n",
              "  </thead>\n",
              "  <tbody>\n",
              "    <tr>\n",
              "      <th>Tocantins</th>\n",
              "      <td>1</td>\n",
              "      <td>4.545455</td>\n",
              "    </tr>\n",
              "    <tr>\n",
              "      <th>Bahia</th>\n",
              "      <td>1</td>\n",
              "      <td>4.545455</td>\n",
              "    </tr>\n",
              "    <tr>\n",
              "      <th>Espírito Santo</th>\n",
              "      <td>1</td>\n",
              "      <td>4.545455</td>\n",
              "    </tr>\n",
              "    <tr>\n",
              "      <th>Paraná</th>\n",
              "      <td>1</td>\n",
              "      <td>4.545455</td>\n",
              "    </tr>\n",
              "    <tr>\n",
              "      <th>Santa Catarina</th>\n",
              "      <td>1</td>\n",
              "      <td>4.545455</td>\n",
              "    </tr>\n",
              "    <tr>\n",
              "      <th>Distrito Federal</th>\n",
              "      <td>1</td>\n",
              "      <td>4.545455</td>\n",
              "    </tr>\n",
              "    <tr>\n",
              "      <th>São Paulo</th>\n",
              "      <td>3</td>\n",
              "      <td>13.636364</td>\n",
              "    </tr>\n",
              "    <tr>\n",
              "      <th>Minas Gerais</th>\n",
              "      <td>5</td>\n",
              "      <td>22.727273</td>\n",
              "    </tr>\n",
              "    <tr>\n",
              "      <th>Rio de Janeiro</th>\n",
              "      <td>8</td>\n",
              "      <td>36.363636</td>\n",
              "    </tr>\n",
              "  </tbody>\n",
              "</table>\n",
              "</div>"
            ],
            "text/plain": [
              "                  Frequencia  Percentual(%)\n",
              "UF                                         \n",
              "Tocantins                  1       4.545455\n",
              "Bahia                      1       4.545455\n",
              "Espírito Santo             1       4.545455\n",
              "Paraná                     1       4.545455\n",
              "Santa Catarina             1       4.545455\n",
              "Distrito Federal           1       4.545455\n",
              "São Paulo                  3      13.636364\n",
              "Minas Gerais               5      22.727273\n",
              "Rio de Janeiro             8      36.363636"
            ]
          },
          "execution_count": 154,
          "metadata": {},
          "output_type": "execute_result"
        }
      ],
      "source": [
        "percent_UF = df_renda.UF.value_counts(normalize=True) * 100\n",
        "freq_UF = df_renda.UF.value_counts()\n",
        "\n",
        "df_sexo_UF = pd.DataFrame({\"Frequencia\" : freq_UF, \"Percentual(%)\": percent_UF}).sort_values(by =\"Frequencia\")\n",
        "df_sexo_UF"
      ]
    },
    {
      "cell_type": "markdown",
      "metadata": {
        "id": "nFGJ_sAKcBu2"
      },
      "source": [
        "### Sexo do Dataset"
      ]
    },
    {
      "cell_type": "code",
      "execution_count": null,
      "metadata": {
        "id": "6N-m1IEIcBu2",
        "outputId": "58c975c2-db2a-41ad-df80-45aaf7dc9970"
      },
      "outputs": [
        {
          "data": {
            "text/html": [
              "<div>\n",
              "<style scoped>\n",
              "    .dataframe tbody tr th:only-of-type {\n",
              "        vertical-align: middle;\n",
              "    }\n",
              "\n",
              "    .dataframe tbody tr th {\n",
              "        vertical-align: top;\n",
              "    }\n",
              "\n",
              "    .dataframe thead th {\n",
              "        text-align: right;\n",
              "    }\n",
              "</style>\n",
              "<table border=\"1\" class=\"dataframe\">\n",
              "  <thead>\n",
              "    <tr style=\"text-align: right;\">\n",
              "      <th></th>\n",
              "      <th>Frequencia</th>\n",
              "      <th>Percentual(%)</th>\n",
              "    </tr>\n",
              "    <tr>\n",
              "      <th>Sexo</th>\n",
              "      <th></th>\n",
              "      <th></th>\n",
              "    </tr>\n",
              "  </thead>\n",
              "  <tbody>\n",
              "    <tr>\n",
              "      <th>Feminino</th>\n",
              "      <td>4</td>\n",
              "      <td>18.181818</td>\n",
              "    </tr>\n",
              "    <tr>\n",
              "      <th>Masculino</th>\n",
              "      <td>18</td>\n",
              "      <td>81.818182</td>\n",
              "    </tr>\n",
              "  </tbody>\n",
              "</table>\n",
              "</div>"
            ],
            "text/plain": [
              "           Frequencia  Percentual(%)\n",
              "Sexo                                \n",
              "Feminino            4      18.181818\n",
              "Masculino          18      81.818182"
            ]
          },
          "execution_count": 155,
          "metadata": {},
          "output_type": "execute_result"
        }
      ],
      "source": [
        "percent_sexo = df_renda.Sexo.value_counts(normalize=True) * 100\n",
        "freq_sexo = df_renda.Sexo.value_counts()\n",
        "\n",
        "df_sexo_rendas = pd.DataFrame({\"Frequencia\" : freq_sexo, \"Percentual(%)\": percent_sexo}).sort_values(by = \"Frequencia\")\n",
        "df_sexo_rendas"
      ]
    },
    {
      "cell_type": "markdown",
      "metadata": {
        "id": "StqvxB4AcBu2"
      },
      "source": [
        "### Renda do Dataset"
      ]
    },
    {
      "cell_type": "code",
      "execution_count": null,
      "metadata": {
        "id": "DgKuTjm_cBu2",
        "outputId": "2dd15b52-e755-48b7-abfb-aa2a96c002db"
      },
      "outputs": [
        {
          "data": {
            "text/html": [
              "<div>\n",
              "<style scoped>\n",
              "    .dataframe tbody tr th:only-of-type {\n",
              "        vertical-align: middle;\n",
              "    }\n",
              "\n",
              "    .dataframe tbody tr th {\n",
              "        vertical-align: top;\n",
              "    }\n",
              "\n",
              "    .dataframe thead th {\n",
              "        text-align: right;\n",
              "    }\n",
              "</style>\n",
              "<table border=\"1\" class=\"dataframe\">\n",
              "  <thead>\n",
              "    <tr style=\"text-align: right;\">\n",
              "      <th></th>\n",
              "      <th>Frequencia</th>\n",
              "      <th>Percentual(%)</th>\n",
              "    </tr>\n",
              "    <tr>\n",
              "      <th>Renda</th>\n",
              "      <th></th>\n",
              "      <th></th>\n",
              "    </tr>\n",
              "  </thead>\n",
              "  <tbody>\n",
              "    <tr>\n",
              "      <th>57000</th>\n",
              "      <td>1</td>\n",
              "      <td>4.545455</td>\n",
              "    </tr>\n",
              "    <tr>\n",
              "      <th>90000</th>\n",
              "      <td>1</td>\n",
              "      <td>4.545455</td>\n",
              "    </tr>\n",
              "    <tr>\n",
              "      <th>120000</th>\n",
              "      <td>1</td>\n",
              "      <td>4.545455</td>\n",
              "    </tr>\n",
              "    <tr>\n",
              "      <th>58000</th>\n",
              "      <td>1</td>\n",
              "      <td>4.545455</td>\n",
              "    </tr>\n",
              "    <tr>\n",
              "      <th>200000</th>\n",
              "      <td>3</td>\n",
              "      <td>13.636364</td>\n",
              "    </tr>\n",
              "    <tr>\n",
              "      <th>80000</th>\n",
              "      <td>4</td>\n",
              "      <td>18.181818</td>\n",
              "    </tr>\n",
              "    <tr>\n",
              "      <th>60000</th>\n",
              "      <td>5</td>\n",
              "      <td>22.727273</td>\n",
              "    </tr>\n",
              "    <tr>\n",
              "      <th>100000</th>\n",
              "      <td>6</td>\n",
              "      <td>27.272727</td>\n",
              "    </tr>\n",
              "  </tbody>\n",
              "</table>\n",
              "</div>"
            ],
            "text/plain": [
              "        Frequencia  Percentual(%)\n",
              "Renda                            \n",
              "57000            1       4.545455\n",
              "90000            1       4.545455\n",
              "120000           1       4.545455\n",
              "58000            1       4.545455\n",
              "200000           3      13.636364\n",
              "80000            4      18.181818\n",
              "60000            5      22.727273\n",
              "100000           6      27.272727"
            ]
          },
          "execution_count": 156,
          "metadata": {},
          "output_type": "execute_result"
        }
      ],
      "source": [
        "freq_Renda = df_renda.Renda.value_counts()\n",
        "\n",
        "percent_Renda = df_renda.Renda.value_counts(normalize=True)*100\n",
        "\n",
        "df_Renda_rendas = pd.DataFrame({\"Frequencia\" : freq_Renda, \"Percentual(%)\": percent_Renda}).sort_values(by = \"Frequencia\")\n",
        "\n",
        "\n",
        "df_Renda_rendas"
      ]
    },
    {
      "cell_type": "markdown",
      "metadata": {
        "id": "xAaCnNaAcBu2"
      },
      "source": [
        "#### Tendencia Central Renda"
      ]
    },
    {
      "cell_type": "code",
      "execution_count": null,
      "metadata": {
        "id": "pb45MUqFcBu2",
        "outputId": "f912030b-dbd5-4b35-bee4-f709350b2912"
      },
      "outputs": [
        {
          "data": {
            "text/plain": [
              "97500.0"
            ]
          },
          "execution_count": 157,
          "metadata": {},
          "output_type": "execute_result"
        }
      ],
      "source": [
        "df_renda.Renda.mean()"
      ]
    },
    {
      "cell_type": "code",
      "execution_count": null,
      "metadata": {
        "id": "mHARhyVfcBu2",
        "outputId": "73ac14f2-bcc8-4bd6-8168-4e8bdf9b9447"
      },
      "outputs": [
        {
          "data": {
            "text/plain": [
              "0    100000\n",
              "Name: Renda, dtype: int64"
            ]
          },
          "execution_count": 158,
          "metadata": {},
          "output_type": "execute_result"
        }
      ],
      "source": [
        "df_renda.Renda.mode()"
      ]
    },
    {
      "cell_type": "code",
      "execution_count": null,
      "metadata": {
        "id": "61TbxU61cBu3",
        "outputId": "09cf3d55-487b-4abe-e42f-093234f44299"
      },
      "outputs": [
        {
          "data": {
            "text/plain": [
              "85000.0"
            ]
          },
          "execution_count": 159,
          "metadata": {},
          "output_type": "execute_result"
        }
      ],
      "source": [
        "df_renda.Renda.median()"
      ]
    },
    {
      "cell_type": "markdown",
      "metadata": {
        "id": "RHrSsXbOcBu3"
      },
      "source": [
        "### Graficos"
      ]
    },
    {
      "cell_type": "code",
      "execution_count": null,
      "metadata": {
        "id": "9K1yM0MlcBu3",
        "outputId": "4bd0de97-7db1-414b-9234-928ec6b4ccea"
      },
      "outputs": [
        {
          "name": "stderr",
          "output_type": "stream",
          "text": [
            "C:\\Users\\win\\AppData\\Local\\Temp\\ipykernel_14464\\88304527.py:1: UserWarning: \n",
            "\n",
            "`distplot` is a deprecated function and will be removed in seaborn v0.14.0.\n",
            "\n",
            "Please adapt your code to use either `displot` (a figure-level function with\n",
            "similar flexibility) or `histplot` (an axes-level function for histograms).\n",
            "\n",
            "For a guide to updating your code to use the new functions, please see\n",
            "https://gist.github.com/mwaskom/de44147ed2974457ad6372750bbe5751\n",
            "\n",
            "  ax = sns.distplot(df_renda.Renda, kde = False, bins = 10)  # Frequencia de Renda\n"
          ]
        },
        {
          "data": {
            "text/plain": [
              "Text(0.5, 1.0, 'Frequencia')"
            ]
          },
          "execution_count": 161,
          "metadata": {},
          "output_type": "execute_result"
        },
        {
          "data": {
            "image/png": "[encoded data removed]",
            "text/plain": [
              "<Figure size 1200x600 with 1 Axes>"
            ]
          },
          "metadata": {},
          "output_type": "display_data"
        }
      ],
      "source": [
        "ax = sns.distplot(df_renda.Renda, kde = False, bins = 10)  # Frequencia de Renda\n",
        "ax.figure.set_size_inches(12,6)\n",
        "ax.set_xlabel(\"Renda\")\n",
        "ax.set_title(\"Frequencia\")\n",
        "\n",
        "\n"
      ]
    },
    {
      "cell_type": "code",
      "execution_count": null,
      "metadata": {
        "id": "WhuCwoPhcBu3",
        "outputId": "9f03084b-060c-488a-be2e-8e659321ca1c"
      },
      "outputs": [
        {
          "name": "stderr",
          "output_type": "stream",
          "text": [
            "C:\\Users\\win\\AppData\\Local\\Temp\\ipykernel_14464\\2876187532.py:1: UserWarning: \n",
            "\n",
            "`distplot` is a deprecated function and will be removed in seaborn v0.14.0.\n",
            "\n",
            "Please adapt your code to use either `displot` (a figure-level function with\n",
            "similar flexibility) or `histplot` (an axes-level function for histograms).\n",
            "\n",
            "For a guide to updating your code to use the new functions, please see\n",
            "https://gist.github.com/mwaskom/de44147ed2974457ad6372750bbe5751\n",
            "\n",
            "  ax = sns.distplot(df_renda.Idade, kde = False, bins = 7) # Freuqncia Idade\n"
          ]
        },
        {
          "data": {
            "text/plain": [
              "Text(0.5, 1.0, 'Frequencia')"
            ]
          },
          "execution_count": 162,
          "metadata": {},
          "output_type": "execute_result"
        },
        {
          "data": {
            "image/png": "[encoded data removed]",
            "text/plain": [
              "<Figure size 1000x600 with 1 Axes>"
            ]
          },
          "metadata": {},
          "output_type": "display_data"
        }
      ],
      "source": [
        "ax = sns.distplot(df_renda.Idade, kde = False, bins = 7) # Freuqncia Idade\n",
        "ax.figure.set_size_inches(10,6)\n",
        "ax.set_xlabel(\"Idade\")\n",
        "ax.set_title(\"Frequencia\")"
      ]
    },
    {
      "cell_type": "code",
      "execution_count": null,
      "metadata": {
        "id": "kWQdeMtScBu3",
        "outputId": "4b55e1ad-a239-4749-d547-78d6eef0d95a"
      },
      "outputs": [
        {
          "data": {
            "image/png": "[encoded data removed]",
            "text/plain": [
              "<Figure size 1200x600 with 1 Axes>"
            ]
          },
          "metadata": {},
          "output_type": "display_data"
        }
      ],
      "source": [
        "ax = sns.catplot(data = df_renda, x = \"Sexo\" , kind = \"count\") # Frequencia de Sexo\n",
        "ax.figure.set_size_inches(12,6)"
      ]
    },
    {
      "cell_type": "code",
      "execution_count": null,
      "metadata": {
        "id": "w1GCLDnvcBu4",
        "outputId": "1e5d3a56-988d-46af-9088-074270349138"
      },
      "outputs": [
        {
          "data": {
            "image/png": "[encoded data removed]",
            "text/plain": [
              "<Figure size 1200x600 with 1 Axes>"
            ]
          },
          "metadata": {},
          "output_type": "display_data"
        }
      ],
      "source": [
        "ax = sns.catplot(data = df_renda, x = \"Sexo\" , kind = \"violin\")\n",
        "ax.figure.set_size_inches(12,6)\n"
      ]
    },
    {
      "cell_type": "code",
      "execution_count": null,
      "metadata": {
        "id": "IBHPY9Q4cBu4",
        "outputId": "d96ed51b-f801-4c5b-beeb-6a46feb06e81"
      },
      "outputs": [
        {
          "data": {
            "text/plain": [
              "Sexo\n",
              "Masculino    18\n",
              "Feminino      4\n",
              "Name: count, dtype: int64"
            ]
          },
          "execution_count": 165,
          "metadata": {},
          "output_type": "execute_result"
        }
      ],
      "source": [
        "df_renda.Sexo.value_counts()"
      ]
    },
    {
      "cell_type": "code",
      "execution_count": null,
      "metadata": {
        "id": "Tjmo8jcRcBu4",
        "outputId": "72f8ff83-0043-445b-b635-4a60b6833e19"
      },
      "outputs": [
        {
          "data": {
            "image/png": "[encoded data removed]",
            "text/plain": [
              "<Figure size 1200x600 with 1 Axes>"
            ]
          },
          "metadata": {},
          "output_type": "display_data"
        }
      ],
      "source": [
        "ax = sns.catplot(data = df_renda, x = \"UF\", y = \"Renda\",hue = \"Sexo\", kind = \"bar\", aspect= 6) # Histograma de Renda por Estado filtrado por sexo\n",
        "ax.figure.set_size_inches(12,6)\n"
      ]
    },
    {
      "cell_type": "code",
      "execution_count": null,
      "metadata": {
        "id": "9HJZuCcCcBu4",
        "outputId": "55a5c347-ad13-43c6-8fe8-a915d49417bf"
      },
      "outputs": [
        {
          "data": {
            "text/plain": [
              "Text(0.5, 1.0, 'Boxplot')"
            ]
          },
          "execution_count": 167,
          "metadata": {},
          "output_type": "execute_result"
        },
        {
          "data": {
            "image/png": "[encoded data removed]",
            "text/plain": [
              "<Figure size 1400x600 with 1 Axes>"
            ]
          },
          "metadata": {},
          "output_type": "display_data"
        }
      ],
      "source": [
        "ax = sns.boxplot(data = df_renda,x =\"UF\", y =\"Renda\") # Boxplot da Renda por Estado (UF)\n",
        "ax.figure.set_size_inches(14,6)\n",
        "ax.set_xlabel(\"Idade\")\n",
        "ax.set_title(\"Boxplot UF\")"
      ]
    },
    {
      "cell_type": "code",
      "execution_count": null,
      "metadata": {
        "id": "jzduYLzDcBu4"
      },
      "outputs": [],
      "source": []
    },
    {
      "cell_type": "markdown",
      "metadata": {
        "id": "5-JbyXuVcBu4"
      },
      "source": []
    }
  ],
  "metadata": {
    "colab": {
      "provenance": [],
      "toc_visible": true,
      "include_colab_link": true
    },
    "kernelspec": {
      "display_name": "Python 3",
      "language": "python",
      "name": "python3"
    },
    "language_info": {
      "codemirror_mode": {
        "name": "ipython",
        "version": 3
      },
      "file_extension": ".py",
      "mimetype": "text/x-python",
      "name": "python",
      "nbconvert_exporter": "python",
      "pygments_lexer": "ipython3",
      "version": "3.12.1"
    }
  },
  "nbformat": 4,
  "nbformat_minor": 0
}